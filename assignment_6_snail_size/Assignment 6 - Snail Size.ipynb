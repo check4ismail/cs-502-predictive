{
 "cells": [
  {
   "cell_type": "markdown",
   "id": "13a59057",
   "metadata": {},
   "source": [
    "# Assignment 6: Feature Engineering\n",
    "Feature Engineering Snail Size\\\n",
    "Ismail Abdo Elmaliki\\\n",
    "CS 502 - Predictive Analytics\\\n",
    "Capitol Technology University\\\n",
    "Professor Frank Neugebauer\\\n",
    "February 8, 2022"
   ]
  },
  {
   "cell_type": "markdown",
   "id": "76538cc1",
   "metadata": {},
   "source": [
    "## Data Understanding\n",
    "It's important to understand the existing data at a high level before moving forward with feature engineering.\\\n",
    "Hence we'll need to know the following first:\n",
    "- Number of entries\n",
    "- Number of missing values\n",
    "- Distribution - whether it's normally distributed, left skewed or right skewed\n",
    "- Data description - including std, max, and min values"
   ]
  },
  {
   "cell_type": "markdown",
   "id": "acf73550",
   "metadata": {},
   "source": [
    "### info() & head()\n",
    "Out of 4177 entries, the following columns have missing values:\n",
    "- length\n",
    "- diameter\n",
    "- shell_weight"
   ]
  },
  {
   "cell_type": "code",
   "execution_count": 14,
   "id": "8a0ef6be",
   "metadata": {},
   "outputs": [
    {
     "name": "stdout",
     "output_type": "stream",
     "text": [
      "<class 'pandas.core.frame.DataFrame'>\n",
      "RangeIndex: 4177 entries, 0 to 4176\n",
      "Data columns (total 9 columns):\n",
      " #   Column           Non-Null Count  Dtype  \n",
      "---  ------           --------------  -----  \n",
      " 0   gender           4177 non-null   object \n",
      " 1   length           4163 non-null   float64\n",
      " 2   diameter         4163 non-null   float64\n",
      " 3   height           4177 non-null   float64\n",
      " 4   full_weight      4177 non-null   float64\n",
      " 5   no_shell_weight  4177 non-null   float64\n",
      " 6   core_weight      4177 non-null   float64\n",
      " 7   shell_weight     4147 non-null   float64\n",
      " 8   age              4177 non-null   int64  \n",
      "dtypes: float64(7), int64(1), object(1)\n",
      "memory usage: 293.8+ KB\n"
     ]
    },
    {
     "data": {
      "text/html": [
       "<div>\n",
       "<style scoped>\n",
       "    .dataframe tbody tr th:only-of-type {\n",
       "        vertical-align: middle;\n",
       "    }\n",
       "\n",
       "    .dataframe tbody tr th {\n",
       "        vertical-align: top;\n",
       "    }\n",
       "\n",
       "    .dataframe thead th {\n",
       "        text-align: right;\n",
       "    }\n",
       "</style>\n",
       "<table border=\"1\" class=\"dataframe\">\n",
       "  <thead>\n",
       "    <tr style=\"text-align: right;\">\n",
       "      <th></th>\n",
       "      <th>gender</th>\n",
       "      <th>length</th>\n",
       "      <th>diameter</th>\n",
       "      <th>height</th>\n",
       "      <th>full_weight</th>\n",
       "      <th>no_shell_weight</th>\n",
       "      <th>core_weight</th>\n",
       "      <th>shell_weight</th>\n",
       "      <th>age</th>\n",
       "    </tr>\n",
       "  </thead>\n",
       "  <tbody>\n",
       "    <tr>\n",
       "      <th>0</th>\n",
       "      <td>M</td>\n",
       "      <td>0.455</td>\n",
       "      <td>0.365</td>\n",
       "      <td>0.095</td>\n",
       "      <td>0.5140</td>\n",
       "      <td>0.2245</td>\n",
       "      <td>0.1010</td>\n",
       "      <td>0.150</td>\n",
       "      <td>15</td>\n",
       "    </tr>\n",
       "    <tr>\n",
       "      <th>1</th>\n",
       "      <td>M</td>\n",
       "      <td>0.350</td>\n",
       "      <td>0.265</td>\n",
       "      <td>0.090</td>\n",
       "      <td>0.2255</td>\n",
       "      <td>0.0995</td>\n",
       "      <td>0.0485</td>\n",
       "      <td>0.070</td>\n",
       "      <td>7</td>\n",
       "    </tr>\n",
       "    <tr>\n",
       "      <th>2</th>\n",
       "      <td>F</td>\n",
       "      <td>0.530</td>\n",
       "      <td>0.420</td>\n",
       "      <td>0.135</td>\n",
       "      <td>0.6770</td>\n",
       "      <td>0.2565</td>\n",
       "      <td>0.1415</td>\n",
       "      <td>0.210</td>\n",
       "      <td>9</td>\n",
       "    </tr>\n",
       "    <tr>\n",
       "      <th>3</th>\n",
       "      <td>M</td>\n",
       "      <td>0.440</td>\n",
       "      <td>0.365</td>\n",
       "      <td>0.125</td>\n",
       "      <td>0.5160</td>\n",
       "      <td>0.2155</td>\n",
       "      <td>0.1140</td>\n",
       "      <td>NaN</td>\n",
       "      <td>10</td>\n",
       "    </tr>\n",
       "    <tr>\n",
       "      <th>4</th>\n",
       "      <td>Infant</td>\n",
       "      <td>0.330</td>\n",
       "      <td>0.255</td>\n",
       "      <td>0.080</td>\n",
       "      <td>0.2050</td>\n",
       "      <td>0.0895</td>\n",
       "      <td>0.0395</td>\n",
       "      <td>0.055</td>\n",
       "      <td>7</td>\n",
       "    </tr>\n",
       "  </tbody>\n",
       "</table>\n",
       "</div>"
      ],
      "text/plain": [
       "   gender  length  diameter  height  full_weight  no_shell_weight  \\\n",
       "0       M   0.455     0.365   0.095       0.5140           0.2245   \n",
       "1       M   0.350     0.265   0.090       0.2255           0.0995   \n",
       "2       F   0.530     0.420   0.135       0.6770           0.2565   \n",
       "3       M   0.440     0.365   0.125       0.5160           0.2155   \n",
       "4  Infant   0.330     0.255   0.080       0.2050           0.0895   \n",
       "\n",
       "   core_weight  shell_weight  age  \n",
       "0       0.1010         0.150   15  \n",
       "1       0.0485         0.070    7  \n",
       "2       0.1415         0.210    9  \n",
       "3       0.1140           NaN   10  \n",
       "4       0.0395         0.055    7  "
      ]
     },
     "execution_count": 14,
     "metadata": {},
     "output_type": "execute_result"
    }
   ],
   "source": [
    "import pandas as pd\n",
    "import numpy as np\n",
    "import seaborn as sns\n",
    "import math\n",
    "\n",
    "df = pd.read_excel('snail_size.xlsx')\n",
    "df.info()\n",
    "df.head()"
   ]
  },
  {
   "cell_type": "markdown",
   "id": "9a282c0c",
   "metadata": {},
   "source": [
    "### Describe\n",
    "The standard deviation among all values seem close except for **age** and **height**.\\\n",
    "Also it looks like there are outliers in **height**, with the minimum value being 0 and the maximum value being 165.\\\n",
    "Outliers also seem to exist in **age**, with the min value being 1 and the maximum value being 29."
   ]
  },
  {
   "cell_type": "code",
   "execution_count": 15,
   "id": "5affaacd",
   "metadata": {},
   "outputs": [
    {
     "data": {
      "text/html": [
       "<div>\n",
       "<style scoped>\n",
       "    .dataframe tbody tr th:only-of-type {\n",
       "        vertical-align: middle;\n",
       "    }\n",
       "\n",
       "    .dataframe tbody tr th {\n",
       "        vertical-align: top;\n",
       "    }\n",
       "\n",
       "    .dataframe thead th {\n",
       "        text-align: right;\n",
       "    }\n",
       "</style>\n",
       "<table border=\"1\" class=\"dataframe\">\n",
       "  <thead>\n",
       "    <tr style=\"text-align: right;\">\n",
       "      <th></th>\n",
       "      <th>length</th>\n",
       "      <th>diameter</th>\n",
       "      <th>height</th>\n",
       "      <th>full_weight</th>\n",
       "      <th>no_shell_weight</th>\n",
       "      <th>core_weight</th>\n",
       "      <th>shell_weight</th>\n",
       "      <th>age</th>\n",
       "    </tr>\n",
       "  </thead>\n",
       "  <tbody>\n",
       "    <tr>\n",
       "      <th>count</th>\n",
       "      <td>4163.000000</td>\n",
       "      <td>4163.000000</td>\n",
       "      <td>4177.000000</td>\n",
       "      <td>4177.000000</td>\n",
       "      <td>4177.000000</td>\n",
       "      <td>4177.000000</td>\n",
       "      <td>4147.000000</td>\n",
       "      <td>4177.000000</td>\n",
       "    </tr>\n",
       "    <tr>\n",
       "      <th>mean</th>\n",
       "      <td>0.524042</td>\n",
       "      <td>0.407871</td>\n",
       "      <td>0.219368</td>\n",
       "      <td>0.828742</td>\n",
       "      <td>0.359367</td>\n",
       "      <td>0.180594</td>\n",
       "      <td>0.239078</td>\n",
       "      <td>9.933684</td>\n",
       "    </tr>\n",
       "    <tr>\n",
       "      <th>std</th>\n",
       "      <td>0.120100</td>\n",
       "      <td>0.099266</td>\n",
       "      <td>3.506068</td>\n",
       "      <td>0.490389</td>\n",
       "      <td>0.221963</td>\n",
       "      <td>0.109614</td>\n",
       "      <td>0.139089</td>\n",
       "      <td>3.224169</td>\n",
       "    </tr>\n",
       "    <tr>\n",
       "      <th>min</th>\n",
       "      <td>0.075000</td>\n",
       "      <td>0.055000</td>\n",
       "      <td>0.000000</td>\n",
       "      <td>0.002000</td>\n",
       "      <td>0.001000</td>\n",
       "      <td>0.000500</td>\n",
       "      <td>0.001500</td>\n",
       "      <td>1.000000</td>\n",
       "    </tr>\n",
       "    <tr>\n",
       "      <th>25%</th>\n",
       "      <td>0.450000</td>\n",
       "      <td>0.350000</td>\n",
       "      <td>0.115000</td>\n",
       "      <td>0.441500</td>\n",
       "      <td>0.186000</td>\n",
       "      <td>0.093500</td>\n",
       "      <td>0.130000</td>\n",
       "      <td>8.000000</td>\n",
       "    </tr>\n",
       "    <tr>\n",
       "      <th>50%</th>\n",
       "      <td>0.545000</td>\n",
       "      <td>0.425000</td>\n",
       "      <td>0.140000</td>\n",
       "      <td>0.799500</td>\n",
       "      <td>0.336000</td>\n",
       "      <td>0.171000</td>\n",
       "      <td>0.235000</td>\n",
       "      <td>9.000000</td>\n",
       "    </tr>\n",
       "    <tr>\n",
       "      <th>75%</th>\n",
       "      <td>0.615000</td>\n",
       "      <td>0.480000</td>\n",
       "      <td>0.165000</td>\n",
       "      <td>1.153000</td>\n",
       "      <td>0.502000</td>\n",
       "      <td>0.253000</td>\n",
       "      <td>0.329750</td>\n",
       "      <td>11.000000</td>\n",
       "    </tr>\n",
       "    <tr>\n",
       "      <th>max</th>\n",
       "      <td>0.815000</td>\n",
       "      <td>0.650000</td>\n",
       "      <td>165.000000</td>\n",
       "      <td>2.825500</td>\n",
       "      <td>1.488000</td>\n",
       "      <td>0.760000</td>\n",
       "      <td>1.005000</td>\n",
       "      <td>29.000000</td>\n",
       "    </tr>\n",
       "  </tbody>\n",
       "</table>\n",
       "</div>"
      ],
      "text/plain": [
       "            length     diameter       height  full_weight  no_shell_weight  \\\n",
       "count  4163.000000  4163.000000  4177.000000  4177.000000      4177.000000   \n",
       "mean      0.524042     0.407871     0.219368     0.828742         0.359367   \n",
       "std       0.120100     0.099266     3.506068     0.490389         0.221963   \n",
       "min       0.075000     0.055000     0.000000     0.002000         0.001000   \n",
       "25%       0.450000     0.350000     0.115000     0.441500         0.186000   \n",
       "50%       0.545000     0.425000     0.140000     0.799500         0.336000   \n",
       "75%       0.615000     0.480000     0.165000     1.153000         0.502000   \n",
       "max       0.815000     0.650000   165.000000     2.825500         1.488000   \n",
       "\n",
       "       core_weight  shell_weight          age  \n",
       "count  4177.000000   4147.000000  4177.000000  \n",
       "mean      0.180594      0.239078     9.933684  \n",
       "std       0.109614      0.139089     3.224169  \n",
       "min       0.000500      0.001500     1.000000  \n",
       "25%       0.093500      0.130000     8.000000  \n",
       "50%       0.171000      0.235000     9.000000  \n",
       "75%       0.253000      0.329750    11.000000  \n",
       "max       0.760000      1.005000    29.000000  "
      ]
     },
     "execution_count": 15,
     "metadata": {},
     "output_type": "execute_result"
    }
   ],
   "source": [
    "df.describe()"
   ]
  },
  {
   "cell_type": "markdown",
   "id": "d0256aea",
   "metadata": {},
   "source": [
    "### Skew & Histogram\n",
    "https://medium.com/@atanudan/kurtosis-skew-function-in-pandas-aa63d72e20de\n",
    "With analyzing results of the `skew()` pandas function, we have to keep the following in mind (Dan, 2020):\n",
    "- Skewness between -0.5 and 0.5 means it's fairly symmetrical\n",
    "- Skewness between -1 and -0.5 or between 0.5 and 1 means data is moderately skewed\n",
    "- Skewness less than -1 or greater than 1 means data is highly skewed \n",
    "\n",
    "Based on the histogram chart and skewness for all features, here are the following observations:\n",
    "- **length** moderately left skewed\n",
    "- **diameter** moderately left skewed\n",
    "- **height** highly right skewed\n",
    "- **full_weight** moderately right skewed\n",
    "- **no_shell_weight** moderately right skewed\n",
    "- **core_weight** moderately right skewed\n",
    "- **shell_weight** moderately right skewed\n",
    "- **age** highly right skewed"
   ]
  },
  {
   "cell_type": "code",
   "execution_count": 16,
   "id": "f1dc8366",
   "metadata": {},
   "outputs": [
    {
     "name": "stderr",
     "output_type": "stream",
     "text": [
      "/var/folders/h8/gz6p2r657dbgvclv0p0zxy180000gn/T/ipykernel_41324/2526089970.py:2: FutureWarning: Dropping of nuisance columns in DataFrame reductions (with 'numeric_only=None') is deprecated; in a future version this will raise TypeError.  Select only valid columns before calling the reduction.\n",
      "  df.skew()\n"
     ]
    },
    {
     "data": {
      "text/plain": [
       "length             -0.640581\n",
       "diameter           -0.609110\n",
       "height             45.498975\n",
       "full_weight         0.530959\n",
       "no_shell_weight     0.719098\n",
       "core_weight         0.591852\n",
       "shell_weight        0.617831\n",
       "age                 1.114102\n",
       "dtype: float64"
      ]
     },
     "execution_count": 16,
     "metadata": {},
     "output_type": "execute_result"
    },
    {
     "data": {
      "image/png": "[encoded data removed]",
      "text/plain": [
       "<Figure size 1800x1800 with 9 Axes>"
      ]
     },
     "metadata": {
      "needs_background": "light"
     },
     "output_type": "display_data"
    }
   ],
   "source": [
    "df.hist(figsize=(25, 25))\n",
    "df.skew()"
   ]
  },
  {
   "cell_type": "markdown",
   "id": "5ec25043",
   "metadata": {},
   "source": [
    "### Mispelled Data\n",
    "Looks like the **gender** column contains a typo with `Instant` when it should be `Infant`"
   ]
  },
  {
   "cell_type": "code",
   "execution_count": 17,
   "id": "4a50c3a6",
   "metadata": {},
   "outputs": [
    {
     "data": {
      "text/plain": [
       "array(['M', 'F', 'Infant', 'Instant'], dtype=object)"
      ]
     },
     "execution_count": 17,
     "metadata": {},
     "output_type": "execute_result"
    }
   ],
   "source": [
    "df['gender'].unique()"
   ]
  },
  {
   "cell_type": "markdown",
   "id": "51a9173f",
   "metadata": {},
   "source": [
    "## Feature Engineering\n",
    "Based on data understanding so far, here's the following that will need to be addressed:\n",
    "- Address **gender** value typo, change `Instant` to `Infant`\n",
    "- Encode **gender** feature then analyze its skewness and determine if it needs further manipulation\n",
    "- Fill missing values for **length**, **diameter**, and **shell_weight**\n",
    "- Address skewness for numerical features"
   ]
  },
  {
   "cell_type": "markdown",
   "id": "7370404b",
   "metadata": {},
   "source": [
    "### Address **gender** value typo\n",
    "Here we'll replace of values of `Instant` with `Infant`"
   ]
  },
  {
   "cell_type": "code",
   "execution_count": 18,
   "id": "1efda083",
   "metadata": {},
   "outputs": [
    {
     "data": {
      "text/plain": [
       "array(['M', 'F', 'Infant'], dtype=object)"
      ]
     },
     "execution_count": 18,
     "metadata": {},
     "output_type": "execute_result"
    }
   ],
   "source": [
    "updated_df = df.copy()\n",
    "updated_df['gender'].replace('Instant', 'Infant', regex=True, inplace=True)\n",
    "updated_df['gender'].unique()"
   ]
  },
  {
   "cell_type": "markdown",
   "id": "d94c3ad1",
   "metadata": {},
   "source": [
    "### One Hot Encoding for **gender** feature\n",
    "Because **gender** is a non ordinal category, it's best to go with one hot encoding since there are only 3 unique values: `M`, `F`, and `Infant`"
   ]
  },
  {
   "cell_type": "code",
   "execution_count": 19,
   "id": "75d7f51d",
   "metadata": {},
   "outputs": [
    {
     "data": {
      "text/html": [
       "<div>\n",
       "<style scoped>\n",
       "    .dataframe tbody tr th:only-of-type {\n",
       "        vertical-align: middle;\n",
       "    }\n",
       "\n",
       "    .dataframe tbody tr th {\n",
       "        vertical-align: top;\n",
       "    }\n",
       "\n",
       "    .dataframe thead th {\n",
       "        text-align: right;\n",
       "    }\n",
       "</style>\n",
       "<table border=\"1\" class=\"dataframe\">\n",
       "  <thead>\n",
       "    <tr style=\"text-align: right;\">\n",
       "      <th></th>\n",
       "      <th>length</th>\n",
       "      <th>diameter</th>\n",
       "      <th>height</th>\n",
       "      <th>full_weight</th>\n",
       "      <th>no_shell_weight</th>\n",
       "      <th>core_weight</th>\n",
       "      <th>shell_weight</th>\n",
       "      <th>age</th>\n",
       "      <th>gender_F</th>\n",
       "      <th>gender_Infant</th>\n",
       "      <th>gender_M</th>\n",
       "    </tr>\n",
       "  </thead>\n",
       "  <tbody>\n",
       "    <tr>\n",
       "      <th>0</th>\n",
       "      <td>0.455</td>\n",
       "      <td>0.365</td>\n",
       "      <td>0.095</td>\n",
       "      <td>0.5140</td>\n",
       "      <td>0.2245</td>\n",
       "      <td>0.1010</td>\n",
       "      <td>0.150</td>\n",
       "      <td>15</td>\n",
       "      <td>0</td>\n",
       "      <td>0</td>\n",
       "      <td>1</td>\n",
       "    </tr>\n",
       "    <tr>\n",
       "      <th>1</th>\n",
       "      <td>0.350</td>\n",
       "      <td>0.265</td>\n",
       "      <td>0.090</td>\n",
       "      <td>0.2255</td>\n",
       "      <td>0.0995</td>\n",
       "      <td>0.0485</td>\n",
       "      <td>0.070</td>\n",
       "      <td>7</td>\n",
       "      <td>0</td>\n",
       "      <td>0</td>\n",
       "      <td>1</td>\n",
       "    </tr>\n",
       "    <tr>\n",
       "      <th>2</th>\n",
       "      <td>0.530</td>\n",
       "      <td>0.420</td>\n",
       "      <td>0.135</td>\n",
       "      <td>0.6770</td>\n",
       "      <td>0.2565</td>\n",
       "      <td>0.1415</td>\n",
       "      <td>0.210</td>\n",
       "      <td>9</td>\n",
       "      <td>1</td>\n",
       "      <td>0</td>\n",
       "      <td>0</td>\n",
       "    </tr>\n",
       "    <tr>\n",
       "      <th>3</th>\n",
       "      <td>0.440</td>\n",
       "      <td>0.365</td>\n",
       "      <td>0.125</td>\n",
       "      <td>0.5160</td>\n",
       "      <td>0.2155</td>\n",
       "      <td>0.1140</td>\n",
       "      <td>NaN</td>\n",
       "      <td>10</td>\n",
       "      <td>0</td>\n",
       "      <td>0</td>\n",
       "      <td>1</td>\n",
       "    </tr>\n",
       "    <tr>\n",
       "      <th>4</th>\n",
       "      <td>0.330</td>\n",
       "      <td>0.255</td>\n",
       "      <td>0.080</td>\n",
       "      <td>0.2050</td>\n",
       "      <td>0.0895</td>\n",
       "      <td>0.0395</td>\n",
       "      <td>0.055</td>\n",
       "      <td>7</td>\n",
       "      <td>0</td>\n",
       "      <td>1</td>\n",
       "      <td>0</td>\n",
       "    </tr>\n",
       "  </tbody>\n",
       "</table>\n",
       "</div>"
      ],
      "text/plain": [
       "   length  diameter  height  full_weight  no_shell_weight  core_weight  \\\n",
       "0   0.455     0.365   0.095       0.5140           0.2245       0.1010   \n",
       "1   0.350     0.265   0.090       0.2255           0.0995       0.0485   \n",
       "2   0.530     0.420   0.135       0.6770           0.2565       0.1415   \n",
       "3   0.440     0.365   0.125       0.5160           0.2155       0.1140   \n",
       "4   0.330     0.255   0.080       0.2050           0.0895       0.0395   \n",
       "\n",
       "   shell_weight  age  gender_F  gender_Infant  gender_M  \n",
       "0         0.150   15         0              0         1  \n",
       "1         0.070    7         0              0         1  \n",
       "2         0.210    9         1              0         0  \n",
       "3           NaN   10         0              0         1  \n",
       "4         0.055    7         0              1         0  "
      ]
     },
     "execution_count": 19,
     "metadata": {},
     "output_type": "execute_result"
    }
   ],
   "source": [
    "updated_df = pd.get_dummies(updated_df, columns=['gender'], prefix='gender')\n",
    "updated_df.head()"
   ]
  },
  {
   "cell_type": "markdown",
   "id": "f671aba6",
   "metadata": {},
   "source": [
    "### Analyze Skewness for **gender_F** , **gender_M** , **gender_Infant**\n",
    "With analyzing `skew()` for gender columns, here's what we have:\n",
    "- **gender_F**: is moderately right skewed\n",
    "- **gender_M**: is moderately right skewed\n",
    "- **gender_Infant**: is moderately right skewed\n",
    "\n",
    "From this analysis, we can conclude we'll need to apply numerical transformations to all gender columns for an even distribution."
   ]
  },
  {
   "cell_type": "code",
   "execution_count": 32,
   "id": "0bc158a1",
   "metadata": {},
   "outputs": [
    {
     "data": {
      "text/plain": [
       "length             -0.640581\n",
       "diameter           -0.609110\n",
       "height             45.498975\n",
       "full_weight         0.530959\n",
       "no_shell_weight     0.719098\n",
       "core_weight         0.591852\n",
       "shell_weight        0.617831\n",
       "age                 1.114102\n",
       "gender_F            0.807302\n",
       "gender_Infant       0.765708\n",
       "gender_M            0.557390\n",
       "dtype: float64"
      ]
     },
     "execution_count": 32,
     "metadata": {},
     "output_type": "execute_result"
    }
   ],
   "source": [
    "updated_df.skew()"
   ]
  },
  {
   "cell_type": "code",
   "execution_count": null,
   "id": "07fb0ff4",
   "metadata": {},
   "outputs": [],
   "source": []
  }
 ],
 "metadata": {
  "kernelspec": {
   "display_name": "Python 3 (ipykernel)",
   "language": "python",
   "name": "python3"
  },
  "language_info": {
   "codemirror_mode": {
    "name": "ipython",
    "version": 3
   },
   "file_extension": ".py",
   "mimetype": "text/x-python",
   "name": "python",
   "nbconvert_exporter": "python",
   "pygments_lexer": "ipython3",
   "version": "3.9.7"
  }
 },
 "nbformat": 4,
 "nbformat_minor": 5
}
