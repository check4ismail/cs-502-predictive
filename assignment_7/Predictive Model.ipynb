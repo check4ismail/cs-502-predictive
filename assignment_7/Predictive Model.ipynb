{
 "cells": [
  {
   "cell_type": "markdown",
   "id": "1316aeda",
   "metadata": {},
   "source": [
    "# Assignment 7: Predictive Model\n",
    "Predictive Model\\\n",
    "Ismail Abdo Elmaliki\\\n",
    "CS 502 - Predictive Analytics\\\n",
    "Capitol Technology University\\\n",
    "Professor Frank Neugebauer\\\n",
    "February 16, 2022"
   ]
  },
  {
   "cell_type": "markdown",
   "id": "67d11155",
   "metadata": {},
   "source": [
    "## Data Understanding"
   ]
  },
  {
   "cell_type": "markdown",
   "id": "a3b7d73a",
   "metadata": {},
   "source": [
    "## Info and Head\n",
    "Right off the bat, we see that there are only two continuos columns: `temp_high` and `temp_low`.\n",
    "\n",
    "Surprisingly `rain_amt` isn't continuous, so it may contain a value other than numeric. That'll require further investigation.\n",
    "\n",
    "All columns from `brooklyn_bridge` to `total_cyclists` can be changed into a int64 type by removing the columns and casting all values as `int64`.\n",
    "\n",
    "The last column called `unamed` appears to have one-null value. That'll require further investigation to determine the next course of action.\n",
    "\n",
    "For `date` it appears that they correspond to days of April. So the right course of action would be to rename the column to `april` then include only the day values which would have a type of `int64` instead of object.\n",
    "\n",
    "Finally, for the feature `day` we can apply feature engineering apply label encoding, where days would represent numbers 1 through 7 starting with Sunday."
   ]
  },
  {
   "cell_type": "code",
   "execution_count": 3,
   "id": "48c165fe",
   "metadata": {},
   "outputs": [
    {
     "name": "stdout",
     "output_type": "stream",
     "text": [
      "<class 'pandas.core.frame.DataFrame'>\n",
      "RangeIndex: 30 entries, 0 to 29\n",
      "Data columns (total 11 columns):\n",
      " #   Column               Non-Null Count  Dtype  \n",
      "---  ------               --------------  -----  \n",
      " 0   date                 30 non-null     object \n",
      " 1   day                  30 non-null     object \n",
      " 2   temp_high            30 non-null     float64\n",
      " 3   temp_low             30 non-null     float64\n",
      " 4   rain_amt             30 non-null     object \n",
      " 5   brooklyn_bridge      30 non-null     object \n",
      " 6   manhattan_bridge     30 non-null     object \n",
      " 7   williamsburg_bridge  30 non-null     object \n",
      " 8   queensboro_bridge    30 non-null     object \n",
      " 9   total_cyclists       30 non-null     object \n",
      " 10  Unnamed: 10          1 non-null      object \n",
      "dtypes: float64(2), object(9)\n",
      "memory usage: 2.7+ KB\n"
     ]
    },
    {
     "data": {
      "text/html": [
       "<div>\n",
       "<style scoped>\n",
       "    .dataframe tbody tr th:only-of-type {\n",
       "        vertical-align: middle;\n",
       "    }\n",
       "\n",
       "    .dataframe tbody tr th {\n",
       "        vertical-align: top;\n",
       "    }\n",
       "\n",
       "    .dataframe thead th {\n",
       "        text-align: right;\n",
       "    }\n",
       "</style>\n",
       "<table border=\"1\" class=\"dataframe\">\n",
       "  <thead>\n",
       "    <tr style=\"text-align: right;\">\n",
       "      <th></th>\n",
       "      <th>date</th>\n",
       "      <th>day</th>\n",
       "      <th>temp_high</th>\n",
       "      <th>temp_low</th>\n",
       "      <th>rain_amt</th>\n",
       "      <th>brooklyn_bridge</th>\n",
       "      <th>manhattan_bridge</th>\n",
       "      <th>williamsburg_bridge</th>\n",
       "      <th>queensboro_bridge</th>\n",
       "      <th>total_cyclists</th>\n",
       "      <th>Unnamed: 10</th>\n",
       "    </tr>\n",
       "  </thead>\n",
       "  <tbody>\n",
       "    <tr>\n",
       "      <th>0</th>\n",
       "      <td>1-Apr</td>\n",
       "      <td>Saturday</td>\n",
       "      <td>46.0</td>\n",
       "      <td>37.0</td>\n",
       "      <td>0</td>\n",
       "      <td>606</td>\n",
       "      <td>1,446</td>\n",
       "      <td>1,915</td>\n",
       "      <td>1,430</td>\n",
       "      <td>5,397</td>\n",
       "      <td>NaN</td>\n",
       "    </tr>\n",
       "    <tr>\n",
       "      <th>1</th>\n",
       "      <td>2-Apr</td>\n",
       "      <td>Sunday</td>\n",
       "      <td>62.1</td>\n",
       "      <td>41.0</td>\n",
       "      <td>0</td>\n",
       "      <td>2,021</td>\n",
       "      <td>3,943</td>\n",
       "      <td>4,207</td>\n",
       "      <td>2,862</td>\n",
       "      <td>13,033</td>\n",
       "      <td>NaN</td>\n",
       "    </tr>\n",
       "    <tr>\n",
       "      <th>2</th>\n",
       "      <td>3-Apr</td>\n",
       "      <td>Monday</td>\n",
       "      <td>63.0</td>\n",
       "      <td>50.0</td>\n",
       "      <td>0.03</td>\n",
       "      <td>2,470</td>\n",
       "      <td>4,988</td>\n",
       "      <td>5,178</td>\n",
       "      <td>3,689</td>\n",
       "      <td>16,325</td>\n",
       "      <td>NaN</td>\n",
       "    </tr>\n",
       "    <tr>\n",
       "      <th>3</th>\n",
       "      <td>4-Apr</td>\n",
       "      <td>Tuesday</td>\n",
       "      <td>51.1</td>\n",
       "      <td>46.0</td>\n",
       "      <td>1.18</td>\n",
       "      <td>723</td>\n",
       "      <td>1,913</td>\n",
       "      <td>2,279</td>\n",
       "      <td>1,666</td>\n",
       "      <td>6,581</td>\n",
       "      <td>NaN</td>\n",
       "    </tr>\n",
       "    <tr>\n",
       "      <th>4</th>\n",
       "      <td>5-Apr</td>\n",
       "      <td>Wednesday</td>\n",
       "      <td>63.0</td>\n",
       "      <td>46.0</td>\n",
       "      <td>0</td>\n",
       "      <td>2,807</td>\n",
       "      <td>5,276</td>\n",
       "      <td>5,711</td>\n",
       "      <td>4,197</td>\n",
       "      <td>17,991</td>\n",
       "      <td>NaN</td>\n",
       "    </tr>\n",
       "  </tbody>\n",
       "</table>\n",
       "</div>"
      ],
      "text/plain": [
       "    date        day  temp_high  temp_low rain_amt brooklyn_bridge  \\\n",
       "0  1-Apr   Saturday       46.0      37.0        0             606   \n",
       "1  2-Apr     Sunday       62.1      41.0        0           2,021   \n",
       "2  3-Apr     Monday       63.0      50.0     0.03           2,470   \n",
       "3  4-Apr    Tuesday       51.1      46.0     1.18             723   \n",
       "4  5-Apr  Wednesday       63.0      46.0        0           2,807   \n",
       "\n",
       "  manhattan_bridge williamsburg_bridge queensboro_bridge total_cyclists  \\\n",
       "0            1,446               1,915             1,430          5,397   \n",
       "1            3,943               4,207             2,862         13,033   \n",
       "2            4,988               5,178             3,689         16,325   \n",
       "3            1,913               2,279             1,666          6,581   \n",
       "4            5,276               5,711             4,197         17,991   \n",
       "\n",
       "  Unnamed: 10  \n",
       "0         NaN  \n",
       "1         NaN  \n",
       "2         NaN  \n",
       "3         NaN  \n",
       "4         NaN  "
      ]
     },
     "execution_count": 3,
     "metadata": {},
     "output_type": "execute_result"
    }
   ],
   "source": [
    "import pandas as pd\n",
    "import numpy as np\n",
    "\n",
    "df = pd.read_csv('04_2017_bike_data.csv')\n",
    "df.info()\n",
    "df.head()"
   ]
  },
  {
   "cell_type": "markdown",
   "id": "57d02dc1",
   "metadata": {},
   "source": [
    "### Futher investigating `rain_amt`\n",
    "https://www.thoughtco.com/what-is-trace-of-precipitation-3444238\n",
    "Displaying unique values for `rain_amt` appears to display an alphabetic value of `T`. After doing further research in the context of rain amount, T refers to trace - which describes very small amount of rain that results in no measurable accumulation (Oblack, 2019). The article also says that if Trace must be converted to a numerical value, it would equal 0.00."
   ]
  },
  {
   "cell_type": "code",
   "execution_count": 7,
   "id": "34386ad8",
   "metadata": {},
   "outputs": [
    {
     "data": {
      "text/plain": [
       "array(['0', '0.03', '1.18', '0.73', 'T', '0.02', '0.17', '0.29', '0.11',\n",
       "       '0.91', '0.34', '0.06'], dtype=object)"
      ]
     },
     "execution_count": 7,
     "metadata": {},
     "output_type": "execute_result"
    }
   ],
   "source": [
    "df['rain_amt'].unique()"
   ]
  },
  {
   "cell_type": "markdown",
   "id": "af17f0c8",
   "metadata": {},
   "source": [
    "### Further investigating `unnamed: 10`\n",
    "After display unique values of the column `Unnamed: 10` we can breathe easy and proceed with deleting this column knowing it won't affect our predictive model setup later."
   ]
  },
  {
   "cell_type": "code",
   "execution_count": 15,
   "id": "29f6aa1d",
   "metadata": {},
   "outputs": [
    {
     "data": {
      "text/plain": [
       "array([nan, ' '], dtype=object)"
      ]
     },
     "execution_count": 15,
     "metadata": {},
     "output_type": "execute_result"
    }
   ],
   "source": [
    "df['Unnamed: 10'].unique()"
   ]
  },
  {
   "cell_type": "code",
   "execution_count": 16,
   "id": "a43dbca0",
   "metadata": {},
   "outputs": [
    {
     "ename": "ValueError",
     "evalue": "Need to specify at least one of 'labels', 'index' or 'columns'",
     "output_type": "error",
     "traceback": [
      "\u001b[0;31m---------------------------------------------------------------------------\u001b[0m",
      "\u001b[0;31mValueError\u001b[0m                                Traceback (most recent call last)",
      "\u001b[0;32m/var/folders/h8/gz6p2r657dbgvclv0p0zxy180000gn/T/ipykernel_22658/1488564803.py\u001b[0m in \u001b[0;36m<module>\u001b[0;34m\u001b[0m\n\u001b[0;32m----> 1\u001b[0;31m \u001b[0mdf\u001b[0m\u001b[0;34m[\u001b[0m\u001b[0;34m'Unnamed: 10'\u001b[0m\u001b[0;34m]\u001b[0m\u001b[0;34m.\u001b[0m\u001b[0mdrop\u001b[0m\u001b[0;34m(\u001b[0m\u001b[0;34m)\u001b[0m\u001b[0;34m\u001b[0m\u001b[0;34m\u001b[0m\u001b[0m\n\u001b[0m",
      "\u001b[0;32m~/opt/anaconda3/lib/python3.9/site-packages/pandas/util/_decorators.py\u001b[0m in \u001b[0;36mwrapper\u001b[0;34m(*args, **kwargs)\u001b[0m\n\u001b[1;32m    309\u001b[0m                     \u001b[0mstacklevel\u001b[0m\u001b[0;34m=\u001b[0m\u001b[0mstacklevel\u001b[0m\u001b[0;34m,\u001b[0m\u001b[0;34m\u001b[0m\u001b[0;34m\u001b[0m\u001b[0m\n\u001b[1;32m    310\u001b[0m                 )\n\u001b[0;32m--> 311\u001b[0;31m             \u001b[0;32mreturn\u001b[0m \u001b[0mfunc\u001b[0m\u001b[0;34m(\u001b[0m\u001b[0;34m*\u001b[0m\u001b[0margs\u001b[0m\u001b[0;34m,\u001b[0m \u001b[0;34m**\u001b[0m\u001b[0mkwargs\u001b[0m\u001b[0;34m)\u001b[0m\u001b[0;34m\u001b[0m\u001b[0;34m\u001b[0m\u001b[0m\n\u001b[0m\u001b[1;32m    312\u001b[0m \u001b[0;34m\u001b[0m\u001b[0m\n\u001b[1;32m    313\u001b[0m         \u001b[0;32mreturn\u001b[0m \u001b[0mwrapper\u001b[0m\u001b[0;34m\u001b[0m\u001b[0;34m\u001b[0m\u001b[0m\n",
      "\u001b[0;32m~/opt/anaconda3/lib/python3.9/site-packages/pandas/core/series.py\u001b[0m in \u001b[0;36mdrop\u001b[0;34m(self, labels, axis, index, columns, level, inplace, errors)\u001b[0m\n\u001b[1;32m   4677\u001b[0m         \u001b[0mdtype\u001b[0m\u001b[0;34m:\u001b[0m \u001b[0mfloat64\u001b[0m\u001b[0;34m\u001b[0m\u001b[0;34m\u001b[0m\u001b[0m\n\u001b[1;32m   4678\u001b[0m         \"\"\"\n\u001b[0;32m-> 4679\u001b[0;31m         return super().drop(\n\u001b[0m\u001b[1;32m   4680\u001b[0m             \u001b[0mlabels\u001b[0m\u001b[0;34m=\u001b[0m\u001b[0mlabels\u001b[0m\u001b[0;34m,\u001b[0m\u001b[0;34m\u001b[0m\u001b[0;34m\u001b[0m\u001b[0m\n\u001b[1;32m   4681\u001b[0m             \u001b[0maxis\u001b[0m\u001b[0;34m=\u001b[0m\u001b[0maxis\u001b[0m\u001b[0;34m,\u001b[0m\u001b[0;34m\u001b[0m\u001b[0;34m\u001b[0m\u001b[0m\n",
      "\u001b[0;32m~/opt/anaconda3/lib/python3.9/site-packages/pandas/core/generic.py\u001b[0m in \u001b[0;36mdrop\u001b[0;34m(self, labels, axis, index, columns, level, inplace, errors)\u001b[0m\n\u001b[1;32m   4140\u001b[0m             \u001b[0maxes\u001b[0m\u001b[0;34m,\u001b[0m \u001b[0m_\u001b[0m \u001b[0;34m=\u001b[0m \u001b[0mself\u001b[0m\u001b[0;34m.\u001b[0m\u001b[0m_construct_axes_from_arguments\u001b[0m\u001b[0;34m(\u001b[0m\u001b[0;34m(\u001b[0m\u001b[0mindex\u001b[0m\u001b[0;34m,\u001b[0m \u001b[0mcolumns\u001b[0m\u001b[0;34m)\u001b[0m\u001b[0;34m,\u001b[0m \u001b[0;34m{\u001b[0m\u001b[0;34m}\u001b[0m\u001b[0;34m)\u001b[0m\u001b[0;34m\u001b[0m\u001b[0;34m\u001b[0m\u001b[0m\n\u001b[1;32m   4141\u001b[0m         \u001b[0;32melse\u001b[0m\u001b[0;34m:\u001b[0m\u001b[0;34m\u001b[0m\u001b[0;34m\u001b[0m\u001b[0m\n\u001b[0;32m-> 4142\u001b[0;31m             raise ValueError(\n\u001b[0m\u001b[1;32m   4143\u001b[0m                 \u001b[0;34m\"Need to specify at least one of 'labels', 'index' or 'columns'\"\u001b[0m\u001b[0;34m\u001b[0m\u001b[0;34m\u001b[0m\u001b[0m\n\u001b[1;32m   4144\u001b[0m             )\n",
      "\u001b[0;31mValueError\u001b[0m: Need to specify at least one of 'labels', 'index' or 'columns'"
     ]
    }
   ],
   "source": [
    "df.drop(columns='Unnamed: 10', inplace=True)"
   ]
  },
  {
   "cell_type": "code",
   "execution_count": null,
   "id": "221b69eb",
   "metadata": {},
   "outputs": [],
   "source": []
  }
 ],
 "metadata": {
  "kernelspec": {
   "display_name": "Python 3 (ipykernel)",
   "language": "python",
   "name": "python3"
  },
  "language_info": {
   "codemirror_mode": {
    "name": "ipython",
    "version": 3
   },
   "file_extension": ".py",
   "mimetype": "text/x-python",
   "name": "python",
   "nbconvert_exporter": "python",
   "pygments_lexer": "ipython3",
   "version": "3.9.7"
  }
 },
 "nbformat": 4,
 "nbformat_minor": 5
}
