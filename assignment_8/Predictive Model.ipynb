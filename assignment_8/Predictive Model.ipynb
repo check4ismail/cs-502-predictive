{
 "cells": [
  {
   "cell_type": "markdown",
   "id": "1316aeda",
   "metadata": {},
   "source": [
    "# Assignment 8: Key Metrics\n",
    "Predictive Model\\\n",
    "Ismail Abdo Elmaliki\\\n",
    "CS 502 - Predictive Analytics\\\n",
    "Capitol Technology University\\\n",
    "Professor Frank Neugebauer\\\n",
    "February 23, 2022"
   ]
  },
  {
   "cell_type": "markdown",
   "id": "a697a5fe",
   "metadata": {},
   "source": [
    "# Table of Contents\n",
    "\n",
    "*Data Understanding*\n",
    "- Info & Head\n",
    "- Futher investigating `rain_amt`\n",
    "- Further investigating `unnamed: 10`\n",
    "\n",
    "*Feature Engineering*\n",
    "- Update `date`\n",
    "- Update `day`\n",
    "- Update columns `brooklyn_bridge` through `total_cyclists`\n",
    "- Update `rain_amt`\n",
    "- Analyze columns `temp_high` through `total_cyclists`\n",
    "\n",
    "*Prediction Model*\n",
    "- Linear Regression\n",
    "  - **Linear Regression - MSE, RMSE, MAE, R-Squared**\n",
    "  - **Linear Regression - predictions vs observed values**\n",
    "- KNN (KNeighborsRegressor)\n",
    "  - **KNN - MSE, RMSE, MAE, R-Squared**\n",
    "  - **KNN - predictions vs observed values**\n",
    "\n",
    "**Conclusion**\n",
    "\n",
    "*References*\n",
    "\n",
    "**NOTE**: Anything bolded indicates new sections added to complete assignment 8"
   ]
  },
  {
   "cell_type": "markdown",
   "id": "67d11155",
   "metadata": {},
   "source": [
    "## Data Understanding"
   ]
  },
  {
   "cell_type": "markdown",
   "id": "a3b7d73a",
   "metadata": {},
   "source": [
    "### Info and Head\n",
    "Right off the bat, we see that there are only two continuos columns: `temp_high` and `temp_low`.\n",
    "\n",
    "Surprisingly `rain_amt` isn't continuous, so it may contain a value other than numeric. That'll require further investigation.\n",
    "\n",
    "All columns from `brooklyn_bridge` to `total_cyclists` can be changed into a int64 type by removing the columns and casting all values as `int64`.\n",
    "\n",
    "The last column called `unamed` appears to have one-null value. That'll require further investigation to determine the next course of action.\n",
    "\n",
    "For `date` it appears that they correspond to days of April. So the right course of action would be to rename the column to `april` then include only the day values which would have a type of `int64` instead of object.\n",
    "\n",
    "Finally, for the feature `day` we can apply feature engineering apply label encoding, where days would represent numbers 1 through 7 starting with Sunday."
   ]
  },
  {
   "cell_type": "code",
   "execution_count": 1,
   "id": "48c165fe",
   "metadata": {},
   "outputs": [
    {
     "name": "stdout",
     "output_type": "stream",
     "text": [
      "<class 'pandas.core.frame.DataFrame'>\n",
      "RangeIndex: 30 entries, 0 to 29\n",
      "Data columns (total 11 columns):\n",
      " #   Column               Non-Null Count  Dtype  \n",
      "---  ------               --------------  -----  \n",
      " 0   date                 30 non-null     object \n",
      " 1   day                  30 non-null     object \n",
      " 2   temp_high            30 non-null     float64\n",
      " 3   temp_low             30 non-null     float64\n",
      " 4   rain_amt             30 non-null     object \n",
      " 5   brooklyn_bridge      30 non-null     object \n",
      " 6   manhattan_bridge     30 non-null     object \n",
      " 7   williamsburg_bridge  30 non-null     object \n",
      " 8   queensboro_bridge    30 non-null     object \n",
      " 9   total_cyclists       30 non-null     object \n",
      " 10  Unnamed: 10          1 non-null      object \n",
      "dtypes: float64(2), object(9)\n",
      "memory usage: 2.7+ KB\n"
     ]
    },
    {
     "data": {
      "text/html": [
       "<div>\n",
       "<style scoped>\n",
       "    .dataframe tbody tr th:only-of-type {\n",
       "        vertical-align: middle;\n",
       "    }\n",
       "\n",
       "    .dataframe tbody tr th {\n",
       "        vertical-align: top;\n",
       "    }\n",
       "\n",
       "    .dataframe thead th {\n",
       "        text-align: right;\n",
       "    }\n",
       "</style>\n",
       "<table border=\"1\" class=\"dataframe\">\n",
       "  <thead>\n",
       "    <tr style=\"text-align: right;\">\n",
       "      <th></th>\n",
       "      <th>date</th>\n",
       "      <th>day</th>\n",
       "      <th>temp_high</th>\n",
       "      <th>temp_low</th>\n",
       "      <th>rain_amt</th>\n",
       "      <th>brooklyn_bridge</th>\n",
       "      <th>manhattan_bridge</th>\n",
       "      <th>williamsburg_bridge</th>\n",
       "      <th>queensboro_bridge</th>\n",
       "      <th>total_cyclists</th>\n",
       "      <th>Unnamed: 10</th>\n",
       "    </tr>\n",
       "  </thead>\n",
       "  <tbody>\n",
       "    <tr>\n",
       "      <th>0</th>\n",
       "      <td>1-Apr</td>\n",
       "      <td>Saturday</td>\n",
       "      <td>46.0</td>\n",
       "      <td>37.0</td>\n",
       "      <td>0</td>\n",
       "      <td>606</td>\n",
       "      <td>1,446</td>\n",
       "      <td>1,915</td>\n",
       "      <td>1,430</td>\n",
       "      <td>5,397</td>\n",
       "      <td>NaN</td>\n",
       "    </tr>\n",
       "    <tr>\n",
       "      <th>1</th>\n",
       "      <td>2-Apr</td>\n",
       "      <td>Sunday</td>\n",
       "      <td>62.1</td>\n",
       "      <td>41.0</td>\n",
       "      <td>0</td>\n",
       "      <td>2,021</td>\n",
       "      <td>3,943</td>\n",
       "      <td>4,207</td>\n",
       "      <td>2,862</td>\n",
       "      <td>13,033</td>\n",
       "      <td>NaN</td>\n",
       "    </tr>\n",
       "    <tr>\n",
       "      <th>2</th>\n",
       "      <td>3-Apr</td>\n",
       "      <td>Monday</td>\n",
       "      <td>63.0</td>\n",
       "      <td>50.0</td>\n",
       "      <td>0.03</td>\n",
       "      <td>2,470</td>\n",
       "      <td>4,988</td>\n",
       "      <td>5,178</td>\n",
       "      <td>3,689</td>\n",
       "      <td>16,325</td>\n",
       "      <td>NaN</td>\n",
       "    </tr>\n",
       "    <tr>\n",
       "      <th>3</th>\n",
       "      <td>4-Apr</td>\n",
       "      <td>Tuesday</td>\n",
       "      <td>51.1</td>\n",
       "      <td>46.0</td>\n",
       "      <td>1.18</td>\n",
       "      <td>723</td>\n",
       "      <td>1,913</td>\n",
       "      <td>2,279</td>\n",
       "      <td>1,666</td>\n",
       "      <td>6,581</td>\n",
       "      <td>NaN</td>\n",
       "    </tr>\n",
       "    <tr>\n",
       "      <th>4</th>\n",
       "      <td>5-Apr</td>\n",
       "      <td>Wednesday</td>\n",
       "      <td>63.0</td>\n",
       "      <td>46.0</td>\n",
       "      <td>0</td>\n",
       "      <td>2,807</td>\n",
       "      <td>5,276</td>\n",
       "      <td>5,711</td>\n",
       "      <td>4,197</td>\n",
       "      <td>17,991</td>\n",
       "      <td>NaN</td>\n",
       "    </tr>\n",
       "  </tbody>\n",
       "</table>\n",
       "</div>"
      ],
      "text/plain": [
       "    date        day  temp_high  temp_low rain_amt brooklyn_bridge  \\\n",
       "0  1-Apr   Saturday       46.0      37.0        0             606   \n",
       "1  2-Apr     Sunday       62.1      41.0        0           2,021   \n",
       "2  3-Apr     Monday       63.0      50.0     0.03           2,470   \n",
       "3  4-Apr    Tuesday       51.1      46.0     1.18             723   \n",
       "4  5-Apr  Wednesday       63.0      46.0        0           2,807   \n",
       "\n",
       "  manhattan_bridge williamsburg_bridge queensboro_bridge total_cyclists  \\\n",
       "0            1,446               1,915             1,430          5,397   \n",
       "1            3,943               4,207             2,862         13,033   \n",
       "2            4,988               5,178             3,689         16,325   \n",
       "3            1,913               2,279             1,666          6,581   \n",
       "4            5,276               5,711             4,197         17,991   \n",
       "\n",
       "  Unnamed: 10  \n",
       "0         NaN  \n",
       "1         NaN  \n",
       "2         NaN  \n",
       "3         NaN  \n",
       "4         NaN  "
      ]
     },
     "execution_count": 1,
     "metadata": {},
     "output_type": "execute_result"
    }
   ],
   "source": [
    "import pandas as pd\n",
    "import numpy as np\n",
    "\n",
    "df = pd.read_csv('04_2017_bike_data.csv')\n",
    "df.info()\n",
    "df.head()"
   ]
  },
  {
   "cell_type": "markdown",
   "id": "57d02dc1",
   "metadata": {},
   "source": [
    "### Futher investigating `rain_amt`\n",
    "Displaying unique values for `rain_amt` appears to display an alphabetic value of `T`. After doing further research in the context of rain amount, T refers to trace - which describes very small amount of rain that results in no measurable accumulation (Oblack, 2019). The article also says that if Trace must be converted to a numerical value, it would equal 0.00."
   ]
  },
  {
   "cell_type": "code",
   "execution_count": 2,
   "id": "34386ad8",
   "metadata": {},
   "outputs": [
    {
     "data": {
      "text/plain": [
       "array(['0', '0.03', '1.18', '0.73', 'T', '0.02', '0.17', '0.29', '0.11',\n",
       "       '0.91', '0.34', '0.06'], dtype=object)"
      ]
     },
     "execution_count": 2,
     "metadata": {},
     "output_type": "execute_result"
    }
   ],
   "source": [
    "df['rain_amt'].unique()"
   ]
  },
  {
   "cell_type": "markdown",
   "id": "af17f0c8",
   "metadata": {},
   "source": [
    "### Further investigating `unnamed: 10`\n",
    "After display unique values of the column `Unnamed: 10` we can breathe easy and proceed with deleting this column knowing it won't affect our predictive model setup later."
   ]
  },
  {
   "cell_type": "code",
   "execution_count": 3,
   "id": "29f6aa1d",
   "metadata": {},
   "outputs": [
    {
     "data": {
      "text/plain": [
       "array([nan, ' '], dtype=object)"
      ]
     },
     "execution_count": 3,
     "metadata": {},
     "output_type": "execute_result"
    }
   ],
   "source": [
    "df['Unnamed: 10'].unique()"
   ]
  },
  {
   "cell_type": "code",
   "execution_count": 4,
   "id": "a43dbca0",
   "metadata": {},
   "outputs": [
    {
     "data": {
      "text/html": [
       "<div>\n",
       "<style scoped>\n",
       "    .dataframe tbody tr th:only-of-type {\n",
       "        vertical-align: middle;\n",
       "    }\n",
       "\n",
       "    .dataframe tbody tr th {\n",
       "        vertical-align: top;\n",
       "    }\n",
       "\n",
       "    .dataframe thead th {\n",
       "        text-align: right;\n",
       "    }\n",
       "</style>\n",
       "<table border=\"1\" class=\"dataframe\">\n",
       "  <thead>\n",
       "    <tr style=\"text-align: right;\">\n",
       "      <th></th>\n",
       "      <th>date</th>\n",
       "      <th>day</th>\n",
       "      <th>temp_high</th>\n",
       "      <th>temp_low</th>\n",
       "      <th>rain_amt</th>\n",
       "      <th>brooklyn_bridge</th>\n",
       "      <th>manhattan_bridge</th>\n",
       "      <th>williamsburg_bridge</th>\n",
       "      <th>queensboro_bridge</th>\n",
       "      <th>total_cyclists</th>\n",
       "    </tr>\n",
       "  </thead>\n",
       "  <tbody>\n",
       "    <tr>\n",
       "      <th>0</th>\n",
       "      <td>1-Apr</td>\n",
       "      <td>Saturday</td>\n",
       "      <td>46.0</td>\n",
       "      <td>37.0</td>\n",
       "      <td>0</td>\n",
       "      <td>606</td>\n",
       "      <td>1,446</td>\n",
       "      <td>1,915</td>\n",
       "      <td>1,430</td>\n",
       "      <td>5,397</td>\n",
       "    </tr>\n",
       "    <tr>\n",
       "      <th>1</th>\n",
       "      <td>2-Apr</td>\n",
       "      <td>Sunday</td>\n",
       "      <td>62.1</td>\n",
       "      <td>41.0</td>\n",
       "      <td>0</td>\n",
       "      <td>2,021</td>\n",
       "      <td>3,943</td>\n",
       "      <td>4,207</td>\n",
       "      <td>2,862</td>\n",
       "      <td>13,033</td>\n",
       "    </tr>\n",
       "    <tr>\n",
       "      <th>2</th>\n",
       "      <td>3-Apr</td>\n",
       "      <td>Monday</td>\n",
       "      <td>63.0</td>\n",
       "      <td>50.0</td>\n",
       "      <td>0.03</td>\n",
       "      <td>2,470</td>\n",
       "      <td>4,988</td>\n",
       "      <td>5,178</td>\n",
       "      <td>3,689</td>\n",
       "      <td>16,325</td>\n",
       "    </tr>\n",
       "    <tr>\n",
       "      <th>3</th>\n",
       "      <td>4-Apr</td>\n",
       "      <td>Tuesday</td>\n",
       "      <td>51.1</td>\n",
       "      <td>46.0</td>\n",
       "      <td>1.18</td>\n",
       "      <td>723</td>\n",
       "      <td>1,913</td>\n",
       "      <td>2,279</td>\n",
       "      <td>1,666</td>\n",
       "      <td>6,581</td>\n",
       "    </tr>\n",
       "    <tr>\n",
       "      <th>4</th>\n",
       "      <td>5-Apr</td>\n",
       "      <td>Wednesday</td>\n",
       "      <td>63.0</td>\n",
       "      <td>46.0</td>\n",
       "      <td>0</td>\n",
       "      <td>2,807</td>\n",
       "      <td>5,276</td>\n",
       "      <td>5,711</td>\n",
       "      <td>4,197</td>\n",
       "      <td>17,991</td>\n",
       "    </tr>\n",
       "  </tbody>\n",
       "</table>\n",
       "</div>"
      ],
      "text/plain": [
       "    date        day  temp_high  temp_low rain_amt brooklyn_bridge  \\\n",
       "0  1-Apr   Saturday       46.0      37.0        0             606   \n",
       "1  2-Apr     Sunday       62.1      41.0        0           2,021   \n",
       "2  3-Apr     Monday       63.0      50.0     0.03           2,470   \n",
       "3  4-Apr    Tuesday       51.1      46.0     1.18             723   \n",
       "4  5-Apr  Wednesday       63.0      46.0        0           2,807   \n",
       "\n",
       "  manhattan_bridge williamsburg_bridge queensboro_bridge total_cyclists  \n",
       "0            1,446               1,915             1,430          5,397  \n",
       "1            3,943               4,207             2,862         13,033  \n",
       "2            4,988               5,178             3,689         16,325  \n",
       "3            1,913               2,279             1,666          6,581  \n",
       "4            5,276               5,711             4,197         17,991  "
      ]
     },
     "execution_count": 4,
     "metadata": {},
     "output_type": "execute_result"
    }
   ],
   "source": [
    "df.drop(columns='Unnamed: 10', inplace=True)\n",
    "df.head()"
   ]
  },
  {
   "cell_type": "markdown",
   "id": "51b87028",
   "metadata": {},
   "source": [
    "## Feature Engineering\n",
    "Now for the fun part, it's time to update the data step by step. Once we're able to change column values to continuous values, we'll re-examine features `temp_high` through `total_cyclists` for skewness and distribution. From there, we'll determine whether transformations will be necessary."
   ]
  },
  {
   "cell_type": "markdown",
   "id": "343b2034",
   "metadata": {},
   "source": [
    "### Update `date`\n",
    "We'll be doing the following with `date`:\n",
    "- changing it's column name from `date` to `day_of_april`\n",
    "- transforming column data by removing all alphabetical characters and symbols\n",
    "- casting column values to `int64`"
   ]
  },
  {
   "cell_type": "code",
   "execution_count": 5,
   "id": "221b69eb",
   "metadata": {},
   "outputs": [
    {
     "name": "stdout",
     "output_type": "stream",
     "text": [
      "<class 'pandas.core.frame.DataFrame'>\n",
      "RangeIndex: 30 entries, 0 to 29\n",
      "Data columns (total 10 columns):\n",
      " #   Column               Non-Null Count  Dtype  \n",
      "---  ------               --------------  -----  \n",
      " 0   day_of_april         30 non-null     int64  \n",
      " 1   day                  30 non-null     object \n",
      " 2   temp_high            30 non-null     float64\n",
      " 3   temp_low             30 non-null     float64\n",
      " 4   rain_amt             30 non-null     object \n",
      " 5   brooklyn_bridge      30 non-null     object \n",
      " 6   manhattan_bridge     30 non-null     object \n",
      " 7   williamsburg_bridge  30 non-null     object \n",
      " 8   queensboro_bridge    30 non-null     object \n",
      " 9   total_cyclists       30 non-null     object \n",
      "dtypes: float64(2), int64(1), object(7)\n",
      "memory usage: 2.5+ KB\n"
     ]
    },
    {
     "data": {
      "text/html": [
       "<div>\n",
       "<style scoped>\n",
       "    .dataframe tbody tr th:only-of-type {\n",
       "        vertical-align: middle;\n",
       "    }\n",
       "\n",
       "    .dataframe tbody tr th {\n",
       "        vertical-align: top;\n",
       "    }\n",
       "\n",
       "    .dataframe thead th {\n",
       "        text-align: right;\n",
       "    }\n",
       "</style>\n",
       "<table border=\"1\" class=\"dataframe\">\n",
       "  <thead>\n",
       "    <tr style=\"text-align: right;\">\n",
       "      <th></th>\n",
       "      <th>day_of_april</th>\n",
       "      <th>day</th>\n",
       "      <th>temp_high</th>\n",
       "      <th>temp_low</th>\n",
       "      <th>rain_amt</th>\n",
       "      <th>brooklyn_bridge</th>\n",
       "      <th>manhattan_bridge</th>\n",
       "      <th>williamsburg_bridge</th>\n",
       "      <th>queensboro_bridge</th>\n",
       "      <th>total_cyclists</th>\n",
       "    </tr>\n",
       "  </thead>\n",
       "  <tbody>\n",
       "    <tr>\n",
       "      <th>0</th>\n",
       "      <td>1</td>\n",
       "      <td>Saturday</td>\n",
       "      <td>46.0</td>\n",
       "      <td>37.0</td>\n",
       "      <td>0</td>\n",
       "      <td>606</td>\n",
       "      <td>1,446</td>\n",
       "      <td>1,915</td>\n",
       "      <td>1,430</td>\n",
       "      <td>5,397</td>\n",
       "    </tr>\n",
       "    <tr>\n",
       "      <th>1</th>\n",
       "      <td>2</td>\n",
       "      <td>Sunday</td>\n",
       "      <td>62.1</td>\n",
       "      <td>41.0</td>\n",
       "      <td>0</td>\n",
       "      <td>2,021</td>\n",
       "      <td>3,943</td>\n",
       "      <td>4,207</td>\n",
       "      <td>2,862</td>\n",
       "      <td>13,033</td>\n",
       "    </tr>\n",
       "    <tr>\n",
       "      <th>2</th>\n",
       "      <td>3</td>\n",
       "      <td>Monday</td>\n",
       "      <td>63.0</td>\n",
       "      <td>50.0</td>\n",
       "      <td>0.03</td>\n",
       "      <td>2,470</td>\n",
       "      <td>4,988</td>\n",
       "      <td>5,178</td>\n",
       "      <td>3,689</td>\n",
       "      <td>16,325</td>\n",
       "    </tr>\n",
       "    <tr>\n",
       "      <th>3</th>\n",
       "      <td>4</td>\n",
       "      <td>Tuesday</td>\n",
       "      <td>51.1</td>\n",
       "      <td>46.0</td>\n",
       "      <td>1.18</td>\n",
       "      <td>723</td>\n",
       "      <td>1,913</td>\n",
       "      <td>2,279</td>\n",
       "      <td>1,666</td>\n",
       "      <td>6,581</td>\n",
       "    </tr>\n",
       "    <tr>\n",
       "      <th>4</th>\n",
       "      <td>5</td>\n",
       "      <td>Wednesday</td>\n",
       "      <td>63.0</td>\n",
       "      <td>46.0</td>\n",
       "      <td>0</td>\n",
       "      <td>2,807</td>\n",
       "      <td>5,276</td>\n",
       "      <td>5,711</td>\n",
       "      <td>4,197</td>\n",
       "      <td>17,991</td>\n",
       "    </tr>\n",
       "  </tbody>\n",
       "</table>\n",
       "</div>"
      ],
      "text/plain": [
       "   day_of_april        day  temp_high  temp_low rain_amt brooklyn_bridge  \\\n",
       "0             1   Saturday       46.0      37.0        0             606   \n",
       "1             2     Sunday       62.1      41.0        0           2,021   \n",
       "2             3     Monday       63.0      50.0     0.03           2,470   \n",
       "3             4    Tuesday       51.1      46.0     1.18             723   \n",
       "4             5  Wednesday       63.0      46.0        0           2,807   \n",
       "\n",
       "  manhattan_bridge williamsburg_bridge queensboro_bridge total_cyclists  \n",
       "0            1,446               1,915             1,430          5,397  \n",
       "1            3,943               4,207             2,862         13,033  \n",
       "2            4,988               5,178             3,689         16,325  \n",
       "3            1,913               2,279             1,666          6,581  \n",
       "4            5,276               5,711             4,197         17,991  "
      ]
     },
     "execution_count": 5,
     "metadata": {},
     "output_type": "execute_result"
    }
   ],
   "source": [
    "df.rename(columns={'date': 'day_of_april'}, inplace=True)\n",
    "df['day_of_april'].replace('-Apr', '', regex=True, inplace=True)\n",
    "df['day_of_april'] = df['day_of_april'].apply(lambda x: int(x))\n",
    "df.info()\n",
    "df.head()\n"
   ]
  },
  {
   "cell_type": "markdown",
   "id": "a162cf2e",
   "metadata": {},
   "source": [
    "### Update `day`\n",
    "For `day` column we'll simply convert days to numbers, with Sunday representing 1 and Saturday representing 7."
   ]
  },
  {
   "cell_type": "code",
   "execution_count": 6,
   "id": "0894a4a1",
   "metadata": {},
   "outputs": [
    {
     "data": {
      "text/plain": [
       "array(['Saturday', 'Sunday', 'Monday', 'Tuesday', 'Wednesday', 'Thursday',\n",
       "       'Friday'], dtype=object)"
      ]
     },
     "execution_count": 6,
     "metadata": {},
     "output_type": "execute_result"
    }
   ],
   "source": [
    "# Verify there are no misspellings of days\n",
    "df['day'].unique() "
   ]
  },
  {
   "cell_type": "code",
   "execution_count": 7,
   "id": "846fe234",
   "metadata": {},
   "outputs": [
    {
     "name": "stdout",
     "output_type": "stream",
     "text": [
      "<class 'pandas.core.frame.DataFrame'>\n",
      "RangeIndex: 30 entries, 0 to 29\n",
      "Data columns (total 10 columns):\n",
      " #   Column               Non-Null Count  Dtype  \n",
      "---  ------               --------------  -----  \n",
      " 0   day_of_april         30 non-null     int64  \n",
      " 1   day                  30 non-null     int64  \n",
      " 2   temp_high            30 non-null     float64\n",
      " 3   temp_low             30 non-null     float64\n",
      " 4   rain_amt             30 non-null     object \n",
      " 5   brooklyn_bridge      30 non-null     object \n",
      " 6   manhattan_bridge     30 non-null     object \n",
      " 7   williamsburg_bridge  30 non-null     object \n",
      " 8   queensboro_bridge    30 non-null     object \n",
      " 9   total_cyclists       30 non-null     object \n",
      "dtypes: float64(2), int64(2), object(6)\n",
      "memory usage: 2.5+ KB\n"
     ]
    },
    {
     "data": {
      "text/html": [
       "<div>\n",
       "<style scoped>\n",
       "    .dataframe tbody tr th:only-of-type {\n",
       "        vertical-align: middle;\n",
       "    }\n",
       "\n",
       "    .dataframe tbody tr th {\n",
       "        vertical-align: top;\n",
       "    }\n",
       "\n",
       "    .dataframe thead th {\n",
       "        text-align: right;\n",
       "    }\n",
       "</style>\n",
       "<table border=\"1\" class=\"dataframe\">\n",
       "  <thead>\n",
       "    <tr style=\"text-align: right;\">\n",
       "      <th></th>\n",
       "      <th>day_of_april</th>\n",
       "      <th>day</th>\n",
       "      <th>temp_high</th>\n",
       "      <th>temp_low</th>\n",
       "      <th>rain_amt</th>\n",
       "      <th>brooklyn_bridge</th>\n",
       "      <th>manhattan_bridge</th>\n",
       "      <th>williamsburg_bridge</th>\n",
       "      <th>queensboro_bridge</th>\n",
       "      <th>total_cyclists</th>\n",
       "    </tr>\n",
       "  </thead>\n",
       "  <tbody>\n",
       "    <tr>\n",
       "      <th>0</th>\n",
       "      <td>1</td>\n",
       "      <td>7</td>\n",
       "      <td>46.0</td>\n",
       "      <td>37.0</td>\n",
       "      <td>0</td>\n",
       "      <td>606</td>\n",
       "      <td>1,446</td>\n",
       "      <td>1,915</td>\n",
       "      <td>1,430</td>\n",
       "      <td>5,397</td>\n",
       "    </tr>\n",
       "    <tr>\n",
       "      <th>1</th>\n",
       "      <td>2</td>\n",
       "      <td>1</td>\n",
       "      <td>62.1</td>\n",
       "      <td>41.0</td>\n",
       "      <td>0</td>\n",
       "      <td>2,021</td>\n",
       "      <td>3,943</td>\n",
       "      <td>4,207</td>\n",
       "      <td>2,862</td>\n",
       "      <td>13,033</td>\n",
       "    </tr>\n",
       "    <tr>\n",
       "      <th>2</th>\n",
       "      <td>3</td>\n",
       "      <td>2</td>\n",
       "      <td>63.0</td>\n",
       "      <td>50.0</td>\n",
       "      <td>0.03</td>\n",
       "      <td>2,470</td>\n",
       "      <td>4,988</td>\n",
       "      <td>5,178</td>\n",
       "      <td>3,689</td>\n",
       "      <td>16,325</td>\n",
       "    </tr>\n",
       "    <tr>\n",
       "      <th>3</th>\n",
       "      <td>4</td>\n",
       "      <td>3</td>\n",
       "      <td>51.1</td>\n",
       "      <td>46.0</td>\n",
       "      <td>1.18</td>\n",
       "      <td>723</td>\n",
       "      <td>1,913</td>\n",
       "      <td>2,279</td>\n",
       "      <td>1,666</td>\n",
       "      <td>6,581</td>\n",
       "    </tr>\n",
       "    <tr>\n",
       "      <th>4</th>\n",
       "      <td>5</td>\n",
       "      <td>4</td>\n",
       "      <td>63.0</td>\n",
       "      <td>46.0</td>\n",
       "      <td>0</td>\n",
       "      <td>2,807</td>\n",
       "      <td>5,276</td>\n",
       "      <td>5,711</td>\n",
       "      <td>4,197</td>\n",
       "      <td>17,991</td>\n",
       "    </tr>\n",
       "  </tbody>\n",
       "</table>\n",
       "</div>"
      ],
      "text/plain": [
       "   day_of_april  day  temp_high  temp_low rain_amt brooklyn_bridge  \\\n",
       "0             1    7       46.0      37.0        0             606   \n",
       "1             2    1       62.1      41.0        0           2,021   \n",
       "2             3    2       63.0      50.0     0.03           2,470   \n",
       "3             4    3       51.1      46.0     1.18             723   \n",
       "4             5    4       63.0      46.0        0           2,807   \n",
       "\n",
       "  manhattan_bridge williamsburg_bridge queensboro_bridge total_cyclists  \n",
       "0            1,446               1,915             1,430          5,397  \n",
       "1            3,943               4,207             2,862         13,033  \n",
       "2            4,988               5,178             3,689         16,325  \n",
       "3            1,913               2,279             1,666          6,581  \n",
       "4            5,276               5,711             4,197         17,991  "
      ]
     },
     "execution_count": 7,
     "metadata": {},
     "output_type": "execute_result"
    }
   ],
   "source": [
    "df['day'].replace({'Sunday': 1, 'Monday': 2, 'Tuesday': 3, 'Wednesday': 4, 'Thursday': 5, 'Friday': 6, 'Saturday': 7}, inplace=True)\n",
    "df.info()\n",
    "df.head()"
   ]
  },
  {
   "cell_type": "markdown",
   "id": "4fc186de",
   "metadata": {},
   "source": [
    "### Update columns `brooklyn_bridge` through `total_cyclists`\n",
    "With these columns, we'll be removing commas then casting all their values to int."
   ]
  },
  {
   "cell_type": "code",
   "execution_count": 8,
   "id": "daec4a4a",
   "metadata": {},
   "outputs": [
    {
     "name": "stdout",
     "output_type": "stream",
     "text": [
      "<class 'pandas.core.frame.DataFrame'>\n",
      "RangeIndex: 30 entries, 0 to 29\n",
      "Data columns (total 10 columns):\n",
      " #   Column               Non-Null Count  Dtype  \n",
      "---  ------               --------------  -----  \n",
      " 0   day_of_april         30 non-null     int64  \n",
      " 1   day                  30 non-null     int64  \n",
      " 2   temp_high            30 non-null     float64\n",
      " 3   temp_low             30 non-null     float64\n",
      " 4   rain_amt             30 non-null     object \n",
      " 5   brooklyn_bridge      30 non-null     int64  \n",
      " 6   manhattan_bridge     30 non-null     int64  \n",
      " 7   williamsburg_bridge  30 non-null     int64  \n",
      " 8   queensboro_bridge    30 non-null     int64  \n",
      " 9   total_cyclists       30 non-null     int64  \n",
      "dtypes: float64(2), int64(7), object(1)\n",
      "memory usage: 2.5+ KB\n"
     ]
    },
    {
     "data": {
      "text/html": [
       "<div>\n",
       "<style scoped>\n",
       "    .dataframe tbody tr th:only-of-type {\n",
       "        vertical-align: middle;\n",
       "    }\n",
       "\n",
       "    .dataframe tbody tr th {\n",
       "        vertical-align: top;\n",
       "    }\n",
       "\n",
       "    .dataframe thead th {\n",
       "        text-align: right;\n",
       "    }\n",
       "</style>\n",
       "<table border=\"1\" class=\"dataframe\">\n",
       "  <thead>\n",
       "    <tr style=\"text-align: right;\">\n",
       "      <th></th>\n",
       "      <th>day_of_april</th>\n",
       "      <th>day</th>\n",
       "      <th>temp_high</th>\n",
       "      <th>temp_low</th>\n",
       "      <th>rain_amt</th>\n",
       "      <th>brooklyn_bridge</th>\n",
       "      <th>manhattan_bridge</th>\n",
       "      <th>williamsburg_bridge</th>\n",
       "      <th>queensboro_bridge</th>\n",
       "      <th>total_cyclists</th>\n",
       "    </tr>\n",
       "  </thead>\n",
       "  <tbody>\n",
       "    <tr>\n",
       "      <th>0</th>\n",
       "      <td>1</td>\n",
       "      <td>7</td>\n",
       "      <td>46.0</td>\n",
       "      <td>37.0</td>\n",
       "      <td>0</td>\n",
       "      <td>606</td>\n",
       "      <td>1446</td>\n",
       "      <td>1915</td>\n",
       "      <td>1430</td>\n",
       "      <td>5397</td>\n",
       "    </tr>\n",
       "    <tr>\n",
       "      <th>1</th>\n",
       "      <td>2</td>\n",
       "      <td>1</td>\n",
       "      <td>62.1</td>\n",
       "      <td>41.0</td>\n",
       "      <td>0</td>\n",
       "      <td>2021</td>\n",
       "      <td>3943</td>\n",
       "      <td>4207</td>\n",
       "      <td>2862</td>\n",
       "      <td>13033</td>\n",
       "    </tr>\n",
       "    <tr>\n",
       "      <th>2</th>\n",
       "      <td>3</td>\n",
       "      <td>2</td>\n",
       "      <td>63.0</td>\n",
       "      <td>50.0</td>\n",
       "      <td>0.03</td>\n",
       "      <td>2470</td>\n",
       "      <td>4988</td>\n",
       "      <td>5178</td>\n",
       "      <td>3689</td>\n",
       "      <td>16325</td>\n",
       "    </tr>\n",
       "    <tr>\n",
       "      <th>3</th>\n",
       "      <td>4</td>\n",
       "      <td>3</td>\n",
       "      <td>51.1</td>\n",
       "      <td>46.0</td>\n",
       "      <td>1.18</td>\n",
       "      <td>723</td>\n",
       "      <td>1913</td>\n",
       "      <td>2279</td>\n",
       "      <td>1666</td>\n",
       "      <td>6581</td>\n",
       "    </tr>\n",
       "    <tr>\n",
       "      <th>4</th>\n",
       "      <td>5</td>\n",
       "      <td>4</td>\n",
       "      <td>63.0</td>\n",
       "      <td>46.0</td>\n",
       "      <td>0</td>\n",
       "      <td>2807</td>\n",
       "      <td>5276</td>\n",
       "      <td>5711</td>\n",
       "      <td>4197</td>\n",
       "      <td>17991</td>\n",
       "    </tr>\n",
       "  </tbody>\n",
       "</table>\n",
       "</div>"
      ],
      "text/plain": [
       "   day_of_april  day  temp_high  temp_low rain_amt  brooklyn_bridge  \\\n",
       "0             1    7       46.0      37.0        0              606   \n",
       "1             2    1       62.1      41.0        0             2021   \n",
       "2             3    2       63.0      50.0     0.03             2470   \n",
       "3             4    3       51.1      46.0     1.18              723   \n",
       "4             5    4       63.0      46.0        0             2807   \n",
       "\n",
       "   manhattan_bridge  williamsburg_bridge  queensboro_bridge  total_cyclists  \n",
       "0              1446                 1915               1430            5397  \n",
       "1              3943                 4207               2862           13033  \n",
       "2              4988                 5178               3689           16325  \n",
       "3              1913                 2279               1666            6581  \n",
       "4              5276                 5711               4197           17991  "
      ]
     },
     "execution_count": 8,
     "metadata": {},
     "output_type": "execute_result"
    }
   ],
   "source": [
    "c = ['brooklyn_bridge', 'manhattan_bridge', 'williamsburg_bridge', 'queensboro_bridge', 'total_cyclists']\n",
    "df.replace(',', '', regex=True, inplace=True)\n",
    "for column in c:\n",
    "    df[column] = df[column].apply(lambda x: int(x))\n",
    "\n",
    "df.info()\n",
    "df.head()"
   ]
  },
  {
   "cell_type": "markdown",
   "id": "537e4cd7",
   "metadata": {},
   "source": [
    "### Update `rain_amt`\n",
    "We'll be changing values `T` to `0.00`. Then cast all values of `rain_amt` to float"
   ]
  },
  {
   "cell_type": "code",
   "execution_count": 9,
   "id": "69a4e4ba",
   "metadata": {},
   "outputs": [
    {
     "name": "stdout",
     "output_type": "stream",
     "text": [
      "<class 'pandas.core.frame.DataFrame'>\n",
      "RangeIndex: 30 entries, 0 to 29\n",
      "Data columns (total 10 columns):\n",
      " #   Column               Non-Null Count  Dtype  \n",
      "---  ------               --------------  -----  \n",
      " 0   day_of_april         30 non-null     int64  \n",
      " 1   day                  30 non-null     int64  \n",
      " 2   temp_high            30 non-null     float64\n",
      " 3   temp_low             30 non-null     float64\n",
      " 4   rain_amt             30 non-null     float64\n",
      " 5   brooklyn_bridge      30 non-null     int64  \n",
      " 6   manhattan_bridge     30 non-null     int64  \n",
      " 7   williamsburg_bridge  30 non-null     int64  \n",
      " 8   queensboro_bridge    30 non-null     int64  \n",
      " 9   total_cyclists       30 non-null     int64  \n",
      "dtypes: float64(3), int64(7)\n",
      "memory usage: 2.5 KB\n"
     ]
    },
    {
     "data": {
      "text/html": [
       "<div>\n",
       "<style scoped>\n",
       "    .dataframe tbody tr th:only-of-type {\n",
       "        vertical-align: middle;\n",
       "    }\n",
       "\n",
       "    .dataframe tbody tr th {\n",
       "        vertical-align: top;\n",
       "    }\n",
       "\n",
       "    .dataframe thead th {\n",
       "        text-align: right;\n",
       "    }\n",
       "</style>\n",
       "<table border=\"1\" class=\"dataframe\">\n",
       "  <thead>\n",
       "    <tr style=\"text-align: right;\">\n",
       "      <th></th>\n",
       "      <th>day_of_april</th>\n",
       "      <th>day</th>\n",
       "      <th>temp_high</th>\n",
       "      <th>temp_low</th>\n",
       "      <th>rain_amt</th>\n",
       "      <th>brooklyn_bridge</th>\n",
       "      <th>manhattan_bridge</th>\n",
       "      <th>williamsburg_bridge</th>\n",
       "      <th>queensboro_bridge</th>\n",
       "      <th>total_cyclists</th>\n",
       "    </tr>\n",
       "  </thead>\n",
       "  <tbody>\n",
       "    <tr>\n",
       "      <th>0</th>\n",
       "      <td>1</td>\n",
       "      <td>7</td>\n",
       "      <td>46.0</td>\n",
       "      <td>37.0</td>\n",
       "      <td>0.00</td>\n",
       "      <td>606</td>\n",
       "      <td>1446</td>\n",
       "      <td>1915</td>\n",
       "      <td>1430</td>\n",
       "      <td>5397</td>\n",
       "    </tr>\n",
       "    <tr>\n",
       "      <th>1</th>\n",
       "      <td>2</td>\n",
       "      <td>1</td>\n",
       "      <td>62.1</td>\n",
       "      <td>41.0</td>\n",
       "      <td>0.00</td>\n",
       "      <td>2021</td>\n",
       "      <td>3943</td>\n",
       "      <td>4207</td>\n",
       "      <td>2862</td>\n",
       "      <td>13033</td>\n",
       "    </tr>\n",
       "    <tr>\n",
       "      <th>2</th>\n",
       "      <td>3</td>\n",
       "      <td>2</td>\n",
       "      <td>63.0</td>\n",
       "      <td>50.0</td>\n",
       "      <td>0.03</td>\n",
       "      <td>2470</td>\n",
       "      <td>4988</td>\n",
       "      <td>5178</td>\n",
       "      <td>3689</td>\n",
       "      <td>16325</td>\n",
       "    </tr>\n",
       "    <tr>\n",
       "      <th>3</th>\n",
       "      <td>4</td>\n",
       "      <td>3</td>\n",
       "      <td>51.1</td>\n",
       "      <td>46.0</td>\n",
       "      <td>1.18</td>\n",
       "      <td>723</td>\n",
       "      <td>1913</td>\n",
       "      <td>2279</td>\n",
       "      <td>1666</td>\n",
       "      <td>6581</td>\n",
       "    </tr>\n",
       "    <tr>\n",
       "      <th>4</th>\n",
       "      <td>5</td>\n",
       "      <td>4</td>\n",
       "      <td>63.0</td>\n",
       "      <td>46.0</td>\n",
       "      <td>0.00</td>\n",
       "      <td>2807</td>\n",
       "      <td>5276</td>\n",
       "      <td>5711</td>\n",
       "      <td>4197</td>\n",
       "      <td>17991</td>\n",
       "    </tr>\n",
       "  </tbody>\n",
       "</table>\n",
       "</div>"
      ],
      "text/plain": [
       "   day_of_april  day  temp_high  temp_low  rain_amt  brooklyn_bridge  \\\n",
       "0             1    7       46.0      37.0      0.00              606   \n",
       "1             2    1       62.1      41.0      0.00             2021   \n",
       "2             3    2       63.0      50.0      0.03             2470   \n",
       "3             4    3       51.1      46.0      1.18              723   \n",
       "4             5    4       63.0      46.0      0.00             2807   \n",
       "\n",
       "   manhattan_bridge  williamsburg_bridge  queensboro_bridge  total_cyclists  \n",
       "0              1446                 1915               1430            5397  \n",
       "1              3943                 4207               2862           13033  \n",
       "2              4988                 5178               3689           16325  \n",
       "3              1913                 2279               1666            6581  \n",
       "4              5276                 5711               4197           17991  "
      ]
     },
     "execution_count": 9,
     "metadata": {},
     "output_type": "execute_result"
    }
   ],
   "source": [
    "df['rain_amt'].replace('T', '0.00', regex=True, inplace=True)\n",
    "df['rain_amt'] = df['rain_amt'].apply(lambda x: float(x))\n",
    "df.info()\n",
    "df.head()"
   ]
  },
  {
   "cell_type": "markdown",
   "id": "22d3a26f",
   "metadata": {},
   "source": [
    "### Analyze columns `temp_high` through `total_cyclists`\n",
    "Now that we've applied feature engineering, it'll be important to re-analyze our data to understand its skewness and distribution.\n",
    "\n",
    "Looking at the skewness of all values, looks like the only feature that'll require a transformation is `rain_amt`. It's highly right skewed. The rest of the features are moderately skewed and do not require any transformation."
   ]
  },
  {
   "cell_type": "code",
   "execution_count": 10,
   "id": "9a2d173c",
   "metadata": {},
   "outputs": [
    {
     "data": {
      "text/plain": [
       "day_of_april           0.000000\n",
       "day                    0.000000\n",
       "temp_high              0.381250\n",
       "temp_low               0.235689\n",
       "rain_amt               2.659268\n",
       "brooklyn_bridge       -0.295921\n",
       "manhattan_bridge      -0.253030\n",
       "williamsburg_bridge   -0.278956\n",
       "queensboro_bridge     -0.263878\n",
       "total_cyclists        -0.283378\n",
       "dtype: float64"
      ]
     },
     "execution_count": 10,
     "metadata": {},
     "output_type": "execute_result"
    }
   ],
   "source": [
    "df.skew()"
   ]
  },
  {
   "cell_type": "markdown",
   "id": "86196c7d",
   "metadata": {},
   "source": [
    "From the box plot, we can clearly see that there are a few outliers that are causing an uneven distribution."
   ]
  },
  {
   "cell_type": "code",
   "execution_count": 11,
   "id": "ccc984f8",
   "metadata": {},
   "outputs": [
    {
     "data": {
      "text/plain": [
       "<AxesSubplot:>"
      ]
     },
     "execution_count": 11,
     "metadata": {},
     "output_type": "execute_result"
    },
    {
     "data": {
      "image/png": "[encoded data removed]",
      "text/plain": [
       "<Figure size 432x288 with 1 Axes>"
      ]
     },
     "metadata": {
      "needs_background": "light"
     },
     "output_type": "display_data"
    }
   ],
   "source": [
    "df.boxplot(column='rain_amt')"
   ]
  },
  {
   "cell_type": "markdown",
   "id": "ff1bc8ea",
   "metadata": {},
   "source": [
    "Applying a log10 transformation doesn't fix the issue at all."
   ]
  },
  {
   "cell_type": "code",
   "execution_count": 12,
   "id": "a6ec9d11",
   "metadata": {},
   "outputs": [
    {
     "data": {
      "text/plain": [
       "nan"
      ]
     },
     "execution_count": 12,
     "metadata": {},
     "output_type": "execute_result"
    }
   ],
   "source": [
    "temp_df = df.copy()\n",
    "temp_df['rain_amt'] = temp_df['rain_amt'].apply(lambda x: np.log10(x))\n",
    "temp_df['rain_amt'].skew()"
   ]
  },
  {
   "cell_type": "markdown",
   "id": "3c519d87",
   "metadata": {},
   "source": [
    "We'll go with the winsorize approach, replacing 10% of the lowest values and 30% of the highest values. \n",
    "\n",
    "We can see that out skew went from 2.65 to 0.74! So we'll go ahead and making those changes permanent."
   ]
  },
  {
   "cell_type": "code",
   "execution_count": 13,
   "id": "4c216bc1",
   "metadata": {},
   "outputs": [
    {
     "data": {
      "text/plain": [
       "0.7448804862362217"
      ]
     },
     "execution_count": 13,
     "metadata": {},
     "output_type": "execute_result"
    }
   ],
   "source": [
    "from scipy.stats.mstats import winsorize\n",
    "\n",
    "temp_df = df.copy()\n",
    "temp_df['rain_amt'] = winsorize(temp_df['rain_amt'], (0.1, 0.3))\n",
    "temp_df['rain_amt'].skew()"
   ]
  },
  {
   "cell_type": "code",
   "execution_count": 14,
   "id": "a5a9fbe8",
   "metadata": {},
   "outputs": [
    {
     "data": {
      "text/plain": [
       "<AxesSubplot:>"
      ]
     },
     "execution_count": 14,
     "metadata": {},
     "output_type": "execute_result"
    },
    {
     "data": {
      "image/png": "[encoded data removed]",
      "text/plain": [
       "<Figure size 432x288 with 1 Axes>"
      ]
     },
     "metadata": {
      "needs_background": "light"
     },
     "output_type": "display_data"
    }
   ],
   "source": [
    "df['rain_amt'] = winsorize(df['rain_amt'], (0.1, 0.3))\n",
    "df.boxplot(column='rain_amt')"
   ]
  },
  {
   "cell_type": "markdown",
   "id": "3c47d9bc",
   "metadata": {},
   "source": [
    "## Prediction Model\n",
    "Alas, we're done with the feature engineering portion. We can now move on to creating a prediction model for this dataset."
   ]
  },
  {
   "cell_type": "markdown",
   "id": "54460750",
   "metadata": {},
   "source": [
    "### Linear Regression\n",
    "For predictors, we'll include all columns except the categorical values `day` and `day_of_april`. Also we'll need to exclude `total_cyclists` since that'll be our target.\n",
    "\n",
    "With setting up a linear regression model, we can see that the linear regression model score is 1. Meaning the prediction model is perfect and able to accurately predict total_cyclists!"
   ]
  },
  {
   "cell_type": "code",
   "execution_count": 15,
   "id": "af859eca",
   "metadata": {},
   "outputs": [
    {
     "name": "stdout",
     "output_type": "stream",
     "text": [
      "1.0\n"
     ]
    }
   ],
   "source": [
    "from sklearn.model_selection import train_test_split\n",
    "from sklearn.linear_model import LinearRegression\n",
    "\n",
    "predictors = ['temp_high', 'temp_low', 'rain_amt', 'brooklyn_bridge', 'manhattan_bridge', 'williamsburg_bridge', 'queensboro_bridge']\n",
    "target = ['total_cyclists']\n",
    "\n",
    "x = df[predictors]\n",
    "y = df[target]\n",
    "\n",
    "x_train, x_test, y_train, y_test = train_test_split(x, y, random_state=100)\n",
    "\n",
    "linear_regression_model = LinearRegression().fit(x_train, y_train)\n",
    "print(linear_regression_model.score(x_test, y_test))"
   ]
  },
  {
   "cell_type": "markdown",
   "id": "dff71797",
   "metadata": {},
   "source": [
    "Let's also test the model and utilize our test data. Comparing our predicted values verus our test values demonstrates that the model indeed accurately predicts `total_cyclists`."
   ]
  },
  {
   "cell_type": "code",
   "execution_count": 16,
   "id": "cca2bf81",
   "metadata": {},
   "outputs": [
    {
     "data": {
      "text/html": [
       "<div>\n",
       "<style scoped>\n",
       "    .dataframe tbody tr th:only-of-type {\n",
       "        vertical-align: middle;\n",
       "    }\n",
       "\n",
       "    .dataframe tbody tr th {\n",
       "        vertical-align: top;\n",
       "    }\n",
       "\n",
       "    .dataframe thead th {\n",
       "        text-align: right;\n",
       "    }\n",
       "</style>\n",
       "<table border=\"1\" class=\"dataframe\">\n",
       "  <thead>\n",
       "    <tr style=\"text-align: right;\">\n",
       "      <th></th>\n",
       "      <th>actual</th>\n",
       "      <th>predicted</th>\n",
       "    </tr>\n",
       "  </thead>\n",
       "  <tbody>\n",
       "    <tr>\n",
       "      <th>0</th>\n",
       "      <td>21295</td>\n",
       "      <td>21295.0</td>\n",
       "    </tr>\n",
       "    <tr>\n",
       "      <th>1</th>\n",
       "      <td>18581</td>\n",
       "      <td>18581.0</td>\n",
       "    </tr>\n",
       "    <tr>\n",
       "      <th>2</th>\n",
       "      <td>19043</td>\n",
       "      <td>19043.0</td>\n",
       "    </tr>\n",
       "    <tr>\n",
       "      <th>3</th>\n",
       "      <td>18015</td>\n",
       "      <td>18015.0</td>\n",
       "    </tr>\n",
       "    <tr>\n",
       "      <th>4</th>\n",
       "      <td>4896</td>\n",
       "      <td>4896.0</td>\n",
       "    </tr>\n",
       "    <tr>\n",
       "      <th>5</th>\n",
       "      <td>20880</td>\n",
       "      <td>20880.0</td>\n",
       "    </tr>\n",
       "    <tr>\n",
       "      <th>6</th>\n",
       "      <td>22787</td>\n",
       "      <td>22787.0</td>\n",
       "    </tr>\n",
       "    <tr>\n",
       "      <th>7</th>\n",
       "      <td>9819</td>\n",
       "      <td>9819.0</td>\n",
       "    </tr>\n",
       "  </tbody>\n",
       "</table>\n",
       "</div>"
      ],
      "text/plain": [
       "   actual  predicted\n",
       "0   21295    21295.0\n",
       "1   18581    18581.0\n",
       "2   19043    19043.0\n",
       "3   18015    18015.0\n",
       "4    4896     4896.0\n",
       "5   20880    20880.0\n",
       "6   22787    22787.0\n",
       "7    9819     9819.0"
      ]
     },
     "execution_count": 16,
     "metadata": {},
     "output_type": "execute_result"
    }
   ],
   "source": [
    "y_pred = linear_regression_model.predict(x_test)\n",
    "\n",
    "y_test_values = y_test.values.flatten()\n",
    "y_pred_values = y_pred.flatten()\n",
    "\n",
    "df_pred = pd.DataFrame({'actual': y_test_values, 'predicted': y_pred_values})\n",
    "df_pred"
   ]
  },
  {
   "cell_type": "markdown",
   "id": "5b24baab",
   "metadata": {},
   "source": [
    "#### Linear Regression - MSE, RMSE, MAE, R-Squared\n",
    "It's time to evaluate our model. We can see that the 1) mean absolute error, 2) mean squared error, and 3) root mean squared error are very close to 0. This would tell us that our Linear Regression Model is very reliable for predicting `total_cyclists`.\n",
    "\n",
    "For R-Squared, we can see that 100% of the variability is captured within the model! So our linear regression model is looking stellar."
   ]
  },
  {
   "cell_type": "code",
   "execution_count": 17,
   "id": "3f64b4e3",
   "metadata": {},
   "outputs": [
    {
     "name": "stdout",
     "output_type": "stream",
     "text": [
      "Mean Absolute Error: 2.9558577807620168e-12\n",
      "Mean Squared Error: 2.5229008682867344e-23\n",
      "Root Mean Squared Error: 5.022848662150528e-12\n",
      "R-squared: 1.00\n"
     ]
    }
   ],
   "source": [
    "from sklearn import metrics\n",
    "from sklearn.metrics import r2_score\n",
    "\n",
    "print('Mean Absolute Error:', metrics.mean_absolute_error(y_test_values, y_pred_values))\n",
    "print('Mean Squared Error:', metrics.mean_squared_error(y_test_values, y_pred_values))\n",
    "print('Root Mean Squared Error:', np.sqrt(metrics.mean_squared_error(y_test_values, y_pred_values)))\n",
    "print('R-squared: {:,.2f}'.format(r2_score(y_true=y_test_values, y_pred=y_pred_values)))"
   ]
  },
  {
   "cell_type": "markdown",
   "id": "93a1dc8b",
   "metadata": {},
   "source": [
    "#### Linear Regression - predictions vs observed values\n",
    "Visually from the chart, we can see what a perfect model looks like. Both predicted and actual values are with one another via the red line and both have the same scatter plot. This may put into question that the model is perhaps too good and may exhibit overfitting since the default way of splitting data is 80% for training and 20% for testing."
   ]
  },
  {
   "cell_type": "code",
   "execution_count": 18,
   "id": "326e5c05",
   "metadata": {},
   "outputs": [
    {
     "data": {
      "image/png": "[encoded data removed]",
      "text/plain": [
       "<Figure size 576x360 with 1 Axes>"
      ]
     },
     "metadata": {
      "needs_background": "light"
     },
     "output_type": "display_data"
    }
   ],
   "source": [
    "import matplotlib.pyplot as plt\n",
    "\n",
    "fig, ax = plt.subplots(figsize=(8, 5))\n",
    "ax.scatter(df_pred['actual'], df_pred['predicted'], s=3)\n",
    "ax.plot(df_pred['actual'], df_pred['predicted'], color='red')\n",
    "ax.set_title('Predictions vs. observed values')\n",
    "ax.set_xlabel('Observed total cyclists')\n",
    "ax.set_ylabel('Predicted total cyclists')\n",
    "ax.grid()"
   ]
  },
  {
   "cell_type": "markdown",
   "id": "0c1257b4",
   "metadata": {},
   "source": [
    "### KNN (KNeighborsRegressor)\n",
    "Now that we've used LinearRegression, let's compare it to KNN.\n",
    "\n",
    "So far, it seems that the score for our KNN predictive model is 0.95. Less than our LinearRegressionModel.\n",
    "\n",
    "Because our dataset is a small size, using a value of 5 for n_neighbors should be a good start."
   ]
  },
  {
   "cell_type": "code",
   "execution_count": 19,
   "id": "d02eaae9",
   "metadata": {},
   "outputs": [
    {
     "name": "stdout",
     "output_type": "stream",
     "text": [
      "0.9539548110538303\n"
     ]
    }
   ],
   "source": [
    "from sklearn.neighbors import KNeighborsRegressor\n",
    "\n",
    "knn = KNeighborsRegressor(n_neighbors=5)\n",
    "knn.fit(x_train, y_train)\n",
    "\n",
    "y_pred_knn = knn.predict(x_train)\n",
    "print(knn.score(x_test, y_test))"
   ]
  },
  {
   "cell_type": "markdown",
   "id": "00b2b0c5",
   "metadata": {},
   "source": [
    "We can clearly see using KNN is able to closely predict the values, but not as accurately as our LinearRegression model."
   ]
  },
  {
   "cell_type": "code",
   "execution_count": 20,
   "id": "4763334d",
   "metadata": {},
   "outputs": [
    {
     "data": {
      "text/html": [
       "<div>\n",
       "<style scoped>\n",
       "    .dataframe tbody tr th:only-of-type {\n",
       "        vertical-align: middle;\n",
       "    }\n",
       "\n",
       "    .dataframe tbody tr th {\n",
       "        vertical-align: top;\n",
       "    }\n",
       "\n",
       "    .dataframe thead th {\n",
       "        text-align: right;\n",
       "    }\n",
       "</style>\n",
       "<table border=\"1\" class=\"dataframe\">\n",
       "  <thead>\n",
       "    <tr style=\"text-align: right;\">\n",
       "      <th></th>\n",
       "      <th>actual</th>\n",
       "      <th>predicted</th>\n",
       "    </tr>\n",
       "  </thead>\n",
       "  <tbody>\n",
       "    <tr>\n",
       "      <th>0</th>\n",
       "      <td>21295</td>\n",
       "      <td>21121.0</td>\n",
       "    </tr>\n",
       "    <tr>\n",
       "      <th>1</th>\n",
       "      <td>18581</td>\n",
       "      <td>17586.8</td>\n",
       "    </tr>\n",
       "    <tr>\n",
       "      <th>2</th>\n",
       "      <td>19043</td>\n",
       "      <td>18522.4</td>\n",
       "    </tr>\n",
       "    <tr>\n",
       "      <th>3</th>\n",
       "      <td>18015</td>\n",
       "      <td>17586.8</td>\n",
       "    </tr>\n",
       "    <tr>\n",
       "      <th>4</th>\n",
       "      <td>4896</td>\n",
       "      <td>7351.2</td>\n",
       "    </tr>\n",
       "    <tr>\n",
       "      <th>5</th>\n",
       "      <td>20880</td>\n",
       "      <td>19749.2</td>\n",
       "    </tr>\n",
       "    <tr>\n",
       "      <th>6</th>\n",
       "      <td>22787</td>\n",
       "      <td>21121.0</td>\n",
       "    </tr>\n",
       "    <tr>\n",
       "      <th>7</th>\n",
       "      <td>9819</td>\n",
       "      <td>10819.8</td>\n",
       "    </tr>\n",
       "  </tbody>\n",
       "</table>\n",
       "</div>"
      ],
      "text/plain": [
       "   actual  predicted\n",
       "0   21295    21121.0\n",
       "1   18581    17586.8\n",
       "2   19043    18522.4\n",
       "3   18015    17586.8\n",
       "4    4896     7351.2\n",
       "5   20880    19749.2\n",
       "6   22787    21121.0\n",
       "7    9819    10819.8"
      ]
     },
     "execution_count": 20,
     "metadata": {},
     "output_type": "execute_result"
    }
   ],
   "source": [
    "y_pred = knn.predict(x_test)\n",
    "y_pred_values = y_pred.flatten()\n",
    "\n",
    "df_pred = pd.DataFrame({'actual': y_test_values, 'predicted': y_pred_values})\n",
    "df_pred"
   ]
  },
  {
   "cell_type": "markdown",
   "id": "033bc2f2",
   "metadata": {},
   "source": [
    "#### KNN - MSE, RMSE, MAE, R-Squared\n",
    "We can also clearly see MAE, MSE, and RMSE values are greater than our LinearRegression model. This would indicate the model performance of KNN isn't as accurate as our LinearRegression model, but is still solid nonetheless.\n",
    "\n",
    "Also the R-sqaured value tells us 95% of the variability is captured within our model. So that's also solid, but not as solid as our Linear Regression model."
   ]
  },
  {
   "cell_type": "code",
   "execution_count": 21,
   "id": "d7a67996",
   "metadata": {},
   "outputs": [
    {
     "name": "stdout",
     "output_type": "stream",
     "text": [
      "Mean Absolute Error: 1046.225\n",
      "Mean Squared Error: 1569620.1949999996\n",
      "Root Mean Squared Error: 1252.8448407524372\n",
      "R-squared: 0.95\n"
     ]
    }
   ],
   "source": [
    "print('Mean Absolute Error:', metrics.mean_absolute_error(y_test_values, y_pred_values))\n",
    "print('Mean Squared Error:', metrics.mean_squared_error(y_test_values, y_pred_values))\n",
    "print('Root Mean Squared Error:', np.sqrt(metrics.mean_squared_error(y_test_values, y_pred_values)))\n",
    "print('R-squared: {:,.2f}'.format(r2_score(y_true=y_test_values, y_pred=y_pred_values)))"
   ]
  },
  {
   "cell_type": "markdown",
   "id": "053fe537",
   "metadata": {},
   "source": [
    "#### KNN - predictions vs observed values\n",
    "Visually from the chart, we can see the differences between the actual and predicted as shown via the red line plot and the different scattered values. This visually reflects what we expect out of KNN based on its model performance via R-sqaured and Mean error scores."
   ]
  },
  {
   "cell_type": "code",
   "execution_count": 22,
   "id": "12a19f6d",
   "metadata": {},
   "outputs": [
    {
     "data": {
      "image/png": "[encoded data removed]",
      "text/plain": [
       "<Figure size 576x360 with 1 Axes>"
      ]
     },
     "metadata": {
      "needs_background": "light"
     },
     "output_type": "display_data"
    }
   ],
   "source": [
    "fig, ax = plt.subplots(figsize=(8, 5))\n",
    "ax.scatter(df_pred['actual'], df_pred['predicted'], s=3)\n",
    "ax.plot(df_pred['actual'], df_pred['predicted'], color='red')\n",
    "ax.set_title('Predictions vs. observed values')\n",
    "ax.set_xlabel('Observed total cyclists')\n",
    "ax.set_ylabel('Predicted total cyclists')\n",
    "ax.grid()"
   ]
  },
  {
   "cell_type": "markdown",
   "id": "cc8be674",
   "metadata": {},
   "source": [
    "# Conclusion\n",
    "Bringing it all together here, we were: \n",
    "- Able to understand our dataset.\n",
    "- Perform feature engineering to address our feature values.\n",
    "- Use Linear Regression and KNN predictive models for our dataset. \n",
    "- Linear Regression is the clear predictive model winner here. \n",
    "- We also made sure to use valuable metrics like mean absolute error, mean squared error, root mean squared error, and R-squared to further evaluate models and their performances."
   ]
  },
  {
   "cell_type": "markdown",
   "id": "93e3375a",
   "metadata": {},
   "source": [
    "# References\n"
   ]
  },
  {
   "cell_type": "markdown",
   "id": "a3b3adf8",
   "metadata": {},
   "source": [
    "Oblack, R. (2019, July 3). *What Is a \"Trace\" of Precipitation?* ThoughtCo. Retrieved February 18, \n",
    "\n",
    "&emsp; 2022, from https://www.thoughtco.com/what-is-trace-of-precipitation-3444238"
   ]
  },
  {
   "cell_type": "markdown",
   "id": "52c5754c",
   "metadata": {},
   "source": []
  }
 ],
 "metadata": {
  "kernelspec": {
   "display_name": "Python 3 (ipykernel)",
   "language": "python",
   "name": "python3"
  },
  "language_info": {
   "codemirror_mode": {
    "name": "ipython",
    "version": 3
   },
   "file_extension": ".py",
   "mimetype": "text/x-python",
   "name": "python",
   "nbconvert_exporter": "python",
   "pygments_lexer": "ipython3",
   "version": "3.9.7"
  }
 },
 "nbformat": 4,
 "nbformat_minor": 5
}
