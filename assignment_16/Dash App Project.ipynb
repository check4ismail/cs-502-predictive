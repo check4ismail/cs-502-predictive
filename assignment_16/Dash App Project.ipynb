{
 "cells": [
  {
   "cell_type": "markdown",
   "id": "159df66b",
   "metadata": {},
   "source": [
    "# Assignment 16: Dash App Project\n",
    "Dash App Project \\\n",
    "Ismail Abdo Elmaliki \\\n",
    "CS 502 - Predictive Analytics \\\n",
    "Capitol Technology University \\\n",
    "April 15, 2021"
   ]
  },
  {
   "cell_type": "markdown",
   "id": "9dbc9041",
   "metadata": {},
   "source": [
    "## Import Dependencies & Setup Model\n",
    "Here I'm importing required depedencies and loading the predictive divorce model."
   ]
  },
  {
   "cell_type": "code",
   "execution_count": 1,
   "id": "7f0909a1",
   "metadata": {},
   "outputs": [
    {
     "name": "stderr",
     "output_type": "stream",
     "text": [
      "/var/folders/h8/gz6p2r657dbgvclv0p0zxy180000gn/T/ipykernel_13577/3073422678.py:4: UserWarning: \n",
      "The dash_core_components package is deprecated. Please replace\n",
      "`import dash_core_components as dcc` with `from dash import dcc`\n",
      "  import dash_core_components as dcc\n",
      "/var/folders/h8/gz6p2r657dbgvclv0p0zxy180000gn/T/ipykernel_13577/3073422678.py:5: UserWarning: \n",
      "The dash_html_components package is deprecated. Please replace\n",
      "`import dash_html_components as html` with `from dash import html`\n",
      "  import dash_html_components as html\n"
     ]
    }
   ],
   "source": [
    "import os\n",
    "import pandas as pd\n",
    "import dash\n",
    "import dash_core_components as dcc\n",
    "import dash_html_components as html\n",
    "from dash.dependencies import Input, Output\n",
    "from keras.models import load_model\n",
    "import joblib\n",
    "import numpy as np\n",
    "import plotly.graph_objs as go\n",
    "\n",
    "model = joblib.load('divorce_model.sav')"
   ]
  },
  {
   "cell_type": "markdown",
   "id": "9c8d0877",
   "metadata": {},
   "source": [
    "## Setup App"
   ]
  },
  {
   "cell_type": "code",
   "execution_count": 2,
   "id": "82ed0ac0",
   "metadata": {},
   "outputs": [],
   "source": [
    "app = dash.Dash(__name__)\n",
    "app.css.append_css({\n",
    "    'external_url': 'https://codepen.io/chriddyp/pen/bWLwgP.css'\n",
    "})"
   ]
  },
  {
   "cell_type": "markdown",
   "id": "c1973cdc",
   "metadata": {},
   "source": [
    "## Setup Features\n",
    "To setup features, the following is being done:\n",
    "- Setup rating options from 1 through 5, 1 being the lowest and 5 being the highest\n",
    "- Setup feature questions that will be displayed to the user\n",
    "- Setup column names, which will be necessary in order to utilize the loaded model\n",
    "- Utilize a for loop to setup feature questions with their respective unique dropdowns"
   ]
  },
  {
   "cell_type": "code",
   "execution_count": 3,
   "id": "c93e3d5f",
   "metadata": {},
   "outputs": [],
   "source": [
    "rating_values = [1, 2, 3, 4, 5]\n",
    "rating_options = [ { 'label': x, 'value': x } for x in rating_values ]\n",
    "\n",
    "feature_questions = [\n",
    "    '1. If one of us apologizes when our discussion deteriorates, the discussion ends.',\n",
    "    '2. I know we can ignore our differences, even if things get hard sometimes.',\n",
    "    '3. When we need it, we can take our discussions with my spouse from the beginning and correct it.',\n",
    "    '4. When I discuss with my spouse, to contact him will eventually work.',\n",
    "    '5. The time I spent with my spouse is special for us.',\n",
    "    '6. We don\\'t have time at home as partners.',\n",
    "    '7. We are like two strangers who share the same environment at home rather than family.',\n",
    "    '8. I enjoy our holidays with my spouse.',\n",
    "    '9. I enjoy traveling with my spouse.',\n",
    "    '10. Most of our goals are common to my spouse.',\n",
    "    '11. I think that one day in the future, when I look back, I see that my spouse and I have been in harmony with each other.',\n",
    "    '12. My spouse and I have similar values in terms of personal freedom.',\n",
    "    '13. My spouse and I have similar sense of entertainment.',\n",
    "    '14. Most of our goals for people (children, friends, etc.) are the same.',\n",
    "    '15. Our dreams with my spouse are similar and harmonious.',\n",
    "    '16. We\\'re compatible with my spouse about what love should be.',\n",
    "    '17. We share the same views about being happy in our life with my spouse',\n",
    "    '18. My spouse and I have similar ideas about how marriage should be',\n",
    "    '19. My spouse and I have similar ideas about how roles should be in marriage',\n",
    "    '20. My spouse and I have similar values in trust.',\n",
    "    '21. I know exactly what my spouse likes.',\n",
    "    '22. I know how my spouse wants to be taken care of when she/he sick.',\n",
    "    '23. I know my spouse\\'s favorite food.',\n",
    "    '24. I can tell you what kind of stress my spouse is facing in her/his life.',\n",
    "    '25. I have knowledge of my spouse\\'s inner world.',\n",
    "    '26. I know my spouse\\'s basic anxieties.',\n",
    "    '27. I know what my spouse\\'s current sources of stress are.',\n",
    "    '28. I know my spouse\\'s hopes and wishes.',\n",
    "    '29. I know my spouse very well.',\n",
    "    '30. I know my spouse\\'s friends and their social relationships.',\n",
    "    '31. I feel aggressive when I argue with my spouse.',\n",
    "    '32. When discussing with my spouse, I usually use expressions such as \\'you always\\' or \\'you never\\'.',\n",
    "    '33. I can use negative statements about my spouse\\'s personality during our discussions.',\n",
    "    '34. I can use offensive expressions during our discussions.',\n",
    "    '35. I can insult my spouse during our discussions.',\n",
    "    '36. I can be humiliating when we discussions.',\n",
    "    '37. My discussion with my spouse is not calm.',\n",
    "    '38. I hate my spouse\\'s way of open a subject.',\n",
    "    '39. Our discussions often occur suddenly.',\n",
    "    '40. We\\'re just starting a discussion before I know what\\'s going on.',\n",
    "    '41. When I talk to my spouse about something, my calm suddenly breaks.',\n",
    "    '42. When I argue with my spouse, I only go out and I don\\'t say a word.',\n",
    "    '43. I mostly stay silent to calm the environment a little bit.',\n",
    "    '44. Sometimes I think it\\'s good for me to leave home for a while.',\n",
    "    '45. I\\'d rather stay silent than discuss with my spouse.',\n",
    "    '46. Even if I\\'m right in the discussion, I stay silent to hurt my spouse.',\n",
    "    '47. When I discuss with my spouse, I stay silent because I am afraid of not being able to control my anger.',\n",
    "    '48. I feel right in our discussions.',\n",
    "    '49. I have nothing to do with what I\\'ve been accused of.',\n",
    "    '50. I\\'m not actually the one who\\'s guilty about what I\\'m accused of.',\n",
    "    '51. I\\'m not the one who\\'s wrong about problems at home.',\n",
    "    '52. I wouldn\\'t hesitate to tell my spouse about her/his inadequacy.',\n",
    "    '53. When I discuss, I remind my spouse of her/his inadequacy.',\n",
    "    '54. I\\'m not afraid to tell my spouse about her/his incompetence.'\n",
    "]\n",
    "\n",
    "columns = [\n",
    "    '1_sorry_end',\n",
    "    '2_ignore_diff',\n",
    "    '3_begin_correct',\n",
    "    '4_contact',\n",
    "    '5_special_time',\n",
    "    '6_no_home_time',\n",
    "    '7_2_strangers',\n",
    "    '8_enjoy_holiday',\n",
    "    '9_enjoy_travel',\n",
    "    '10_common_goals',\n",
    "    '11_harmony',\n",
    "    '12_freeom_value',\n",
    "    '13_entertain',\n",
    "    '14_people_goals',\n",
    "    '15_dreams',\n",
    "    '16_love',\n",
    "    '17_happy',\n",
    "    '18_marriage',\n",
    "    '19_roles',\n",
    "    '20_trust',\n",
    "    '21_likes',\n",
    "    '22_care_sick',\n",
    "    '23_fav_food',\n",
    "    '24_stresses',\n",
    "    '25_inner_world',\n",
    "    '26_anxieties',\n",
    "    '27_current_stress',\n",
    "    '28_hopes_wishes',\n",
    "    '29_know_well',\n",
    "    '30_friends_social',\n",
    "    '31_aggro_argue',\n",
    "    '32_always_never',\n",
    "    '33_negative_personality',\n",
    "    '34_offensive_expressions',\n",
    "    '35_insult',\n",
    "    '36_humiliate',\n",
    "    '37_not_calm',\n",
    "    '38_hate_subjects',\n",
    "    '39_sudden_discussion',\n",
    "    '40_idk_what\\'s_going_on',\n",
    "    '41_calm_breaks',\n",
    "    '42_argue_then_leave',\n",
    "    '43_silent_for_calm',\n",
    "    '44_good_to_leave_home',\n",
    "    '45_silence_instead_of_discussion',\n",
    "    '46_silence_for_harm',\n",
    "    '47_silence_fear_anger',\n",
    "    '48_i\\'m_right',\n",
    "    '49_accusations',\n",
    "    '50_i\\'m_not_guilty',\n",
    "    '51_i\\'m_not_wrong',\n",
    "    '52_no_hesitancy_inadequate',\n",
    "    '53_you\\'re_inadequate',\n",
    "    '54_incompetence'\n",
    "]\n",
    "\n",
    "div_features = []\n",
    "for i in range(len(feature_questions)):\n",
    "    id = 'rating-' + str(i)\n",
    "    input_rating = dcc.Dropdown(\n",
    "        id=columns[i],\n",
    "        options=rating_options\n",
    "    )\n",
    "\n",
    "    div_feature = html.Div(\n",
    "        children=[html.H3(feature_questions[i]), input_rating],\n",
    "        className='feature'\n",
    "    )\n",
    "    div_features.append(div_feature)"
   ]
  },
  {
   "cell_type": "markdown",
   "id": "97a3616b",
   "metadata": {},
   "source": [
    "## Layout App\n",
    "Here I'm setting up the overall app layout by including the Title, sub texts, questions, dropdowns, and output of dropdowns."
   ]
  },
  {
   "cell_type": "code",
   "execution_count": 4,
   "id": "611462a8",
   "metadata": {},
   "outputs": [],
   "source": [
    "app.layout = html.Div([\n",
    "    html.H1('Divorce Predictor - Malik Therapy'),\n",
    "    html.H2('Answer all questions to determine whether a couple\\'s marriage is heading towards divorce or not.'),\n",
    "    html.P('NOTE: This tool is for informational purposes in order to understand our clients\\' marriage state.\\nBy understanding the state of their marriage, we can provide appropriate counseling tailored to couples.'),\n",
    "    html.P('Do NOT share divorce predictor results with couples - this is for internal use only.'),\n",
    "    html.Div(\n",
    "        children=div_features\n",
    "    ),\n",
    "    html.H2(\n",
    "        id='output',\n",
    "        style= { 'text-align': 'center' }\n",
    "    )\n",
    "])"
   ]
  },
  {
   "cell_type": "markdown",
   "id": "c073c1e3",
   "metadata": {},
   "source": [
    "## Setup Prediction Function\n",
    "The function parameter `features` contains the rating to all questions answered by the user.\n",
    "\n",
    "From there I setup a Pandas table, use the model to make a prediction, then return whether divorce *is likely or unlikely*."
   ]
  },
  {
   "cell_type": "code",
   "execution_count": 5,
   "id": "22b7915e",
   "metadata": {},
   "outputs": [],
   "source": [
    "def get_prediction(features):\n",
    "    df = pd.DataFrame([features], columns=columns)\n",
    "    prediction = model.predict(df)\n",
    "\n",
    "    if prediction == 1:  \n",
    "        return 'Divorce is likely'\n",
    "    else:\n",
    "        return 'Divorce is unlikely'"
   ]
  },
  {
   "cell_type": "markdown",
   "id": "6451ef03",
   "metadata": {},
   "source": [
    "## Setup Callback, Run App\n",
    "For the callback setup, it'll include a respective function which will call the `get_prediction` function.\n",
    "\n",
    "For the `display_prediction` function, rather than have 54 function parameters I went the path of using Python variadic arguments. Any arguments that contain `None` won't be processed, but if all questions are answered by the user then the divorce outcome will be displayed."
   ]
  },
  {
   "cell_type": "code",
   "execution_count": 6,
   "id": "8d31aed3",
   "metadata": {},
   "outputs": [
    {
     "name": "stdout",
     "output_type": "stream",
     "text": [
      "Dash is running on http://127.0.0.1:8050/\n",
      "\n",
      " * Serving Flask app \"__main__\" (lazy loading)\n",
      " * Environment: production\n",
      "\u001b[31m   WARNING: This is a development server. Do not use it in a production deployment.\u001b[0m\n",
      "\u001b[2m   Use a production WSGI server instead.\u001b[0m\n",
      " * Debug mode: off\n"
     ]
    },
    {
     "name": "stderr",
     "output_type": "stream",
     "text": [
      " * Running on http://127.0.0.1:8050/ (Press CTRL+C to quit)\n",
      "/Users/IsmailElmaliki/opt/anaconda3/lib/python3.9/site-packages/dash/resources.py:63: UserWarning: You have set your config to `serve_locally=True` but A local version of https://codepen.io/chriddyp/pen/bWLwgP.css is not available.\n",
      "If you added this file with `app.scripts.append_script` or `app.css.append_css`, use `external_scripts` or `external_stylesheets` instead.\n",
      "See https://dash.plotly.com/external-resources\n",
      "  warnings.warn(\n",
      "127.0.0.1 - - [16/Apr/2022 16:11:39] \"GET / HTTP/1.1\" 200 -\n",
      "127.0.0.1 - - [16/Apr/2022 16:11:40] \"GET /_dash-layout HTTP/1.1\" 200 -\n",
      "127.0.0.1 - - [16/Apr/2022 16:11:40] \"GET /_dash-dependencies HTTP/1.1\" 200 -\n",
      "127.0.0.1 - - [16/Apr/2022 16:11:40] \"GET /_dash-component-suites/dash/dcc/async-dropdown.js HTTP/1.1\" 304 -\n",
      "127.0.0.1 - - [16/Apr/2022 16:11:40] \"POST /_dash-update-component HTTP/1.1\" 200 -\n"
     ]
    }
   ],
   "source": [
    "@app.callback(\n",
    "    Output('output', 'children'),\n",
    "    [Input(x, 'value') for x in columns]\n",
    ")\n",
    "def display_prediction(*args):\n",
    "    if None in args:\n",
    "        return ''\n",
    "    else:\n",
    "        return get_prediction(args)\n",
    "\n",
    "if __name__ == '__main__':\n",
    "    app.run_server(debug=False)"
   ]
  }
 ],
 "metadata": {
  "kernelspec": {
   "display_name": "Python 3 (ipykernel)",
   "language": "python",
   "name": "python3"
  },
  "language_info": {
   "codemirror_mode": {
    "name": "ipython",
    "version": 3
   },
   "file_extension": ".py",
   "mimetype": "text/x-python",
   "name": "python",
   "nbconvert_exporter": "python",
   "pygments_lexer": "ipython3",
   "version": "3.9.7"
  }
 },
 "nbformat": 4,
 "nbformat_minor": 5
}
